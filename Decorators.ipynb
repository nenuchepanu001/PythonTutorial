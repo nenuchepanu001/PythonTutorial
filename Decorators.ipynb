{
  "nbformat": 4,
  "nbformat_minor": 0,
  "metadata": {
    "colab": {
      "provenance": [],
      "authorship_tag": "ABX9TyPHINJPnemwfOxXoR4Pu9N6",
      "include_colab_link": true
    },
    "kernelspec": {
      "name": "python3",
      "display_name": "Python 3"
    },
    "language_info": {
      "name": "python"
    }
  },
  "cells": [
    {
      "cell_type": "markdown",
      "metadata": {
        "id": "view-in-github",
        "colab_type": "text"
      },
      "source": [
        "<a href=\"https://colab.research.google.com/github/nenuchepanu001/PythonTutorial/blob/main/Decorators.ipynb\" target=\"_parent\"><img src=\"https://colab.research.google.com/assets/colab-badge.svg\" alt=\"Open In Colab\"/></a>"
      ]
    },
    {
      "cell_type": "code",
      "execution_count": null,
      "metadata": {
        "colab": {
          "base_uri": "https://localhost:8080/"
        },
        "id": "EZ1aUtH7QlvJ",
        "outputId": "b3723325-e36b-42cb-bf0c-55fcbd2d99cc"
      },
      "outputs": [
        {
          "output_type": "stream",
          "name": "stdout",
          "text": [
            "helllllllllllllo\n",
            "None\n"
          ]
        }
      ],
      "source": [
        "def hello():\n",
        "  print('hellllllllllllloooooo')\n",
        "\n",
        "greet  = hello\n",
        "\n",
        "del hello\n",
        "print(greet())\n"
      ]
    },
    {
      "cell_type": "code",
      "source": [
        "#higher order function\n",
        "#that accepts inside its parameter accepts another function\n",
        "\n",
        "def greet(func):\n",
        "  func()\n",
        "\n",
        "def greet2():\n",
        "  def func():\n",
        "    return 5\n",
        "  return func"
      ],
      "metadata": {
        "id": "_mtUcRzVRllS"
      },
      "execution_count": 1,
      "outputs": []
    },
    {
      "cell_type": "code",
      "source": [
        "# def hello():\n",
        "#   print('hello')\n",
        "\n",
        "def my_decorator(func):\n",
        "  def wrap_func():\n",
        "    print('before')\n",
        "    func()\n",
        "    print('after')\n",
        "  return wrap_func\n",
        "\n",
        "@my_decorator\n",
        "def hello():\n",
        "  print('hello')\n",
        "\n",
        "hello()"
      ],
      "metadata": {
        "colab": {
          "base_uri": "https://localhost:8080/"
        },
        "id": "0lp5Di-1a0ph",
        "outputId": "83e0eceb-1b6b-4ec5-8a77-a3d31c16b2e4"
      },
      "execution_count": 2,
      "outputs": [
        {
          "output_type": "stream",
          "name": "stdout",
          "text": [
            "before\n",
            "hello\n",
            "after\n"
          ]
        }
      ]
    },
    {
      "cell_type": "code",
      "source": [
        "# def hello():\n",
        "#   print('hello')\n",
        "\n",
        "def my_decorator(func):\n",
        "  def wrap_func(x):\n",
        "    print('before')\n",
        "    func(x)\n",
        "    print('after')\n",
        "  return wrap_func\n",
        "\n",
        "@my_decorator\n",
        "def hello(greeting):\n",
        "  print(greeting)\n",
        "\n",
        "hello('hi')"
      ],
      "metadata": {
        "colab": {
          "base_uri": "https://localhost:8080/"
        },
        "id": "mE7tHLKNbWzB",
        "outputId": "9f6c5e51-0005-4e65-8d42-2cc256c1f915"
      },
      "execution_count": 5,
      "outputs": [
        {
          "output_type": "stream",
          "name": "stdout",
          "text": [
            "before\n",
            "hi\n",
            "after\n"
          ]
        }
      ]
    },
    {
      "cell_type": "code",
      "source": [
        "#why do we need decorators?\n",
        "\n",
        "\n"
      ],
      "metadata": {
        "id": "nhJheUw6iOdW"
      },
      "execution_count": 6,
      "outputs": []
    },
    {
      "cell_type": "code",
      "source": [
        "from time import time\n",
        "\n",
        "def performance(fn):\n",
        "  def wrapper(*args, **kwargs):\n",
        "    t1 = time()\n",
        "    result = fn(*args, **kwargs)\n",
        "    t2 = time()\n",
        "    print(f'took {t2-t1} s')\n",
        "    return result\n",
        "  return wrapper\n",
        "\n",
        "\n",
        "@performance\n",
        "def long_time():\n",
        "  for i in range(10000000):\n",
        "    i * 5\n",
        "\n",
        "\n",
        "long_time()"
      ],
      "metadata": {
        "colab": {
          "base_uri": "https://localhost:8080/"
        },
        "id": "f79Z5gb7pjBP",
        "outputId": "81dfcce7-0d72-4757-f41e-4c862137b3cf"
      },
      "execution_count": 7,
      "outputs": [
        {
          "output_type": "stream",
          "name": "stdout",
          "text": [
            "took 0.8042514324188232 s\n"
          ]
        }
      ]
    },
    {
      "cell_type": "code",
      "source": [],
      "metadata": {
        "id": "l3cDp6Gzp5o9"
      },
      "execution_count": null,
      "outputs": []
    }
  ]
}