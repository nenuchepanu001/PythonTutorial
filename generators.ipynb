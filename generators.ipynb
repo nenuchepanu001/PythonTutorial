{
  "nbformat": 4,
  "nbformat_minor": 0,
  "metadata": {
    "colab": {
      "provenance": [],
      "authorship_tag": "ABX9TyNIIUswZLFc+/ywOhCjk2ID",
      "include_colab_link": true
    },
    "kernelspec": {
      "name": "python3",
      "display_name": "Python 3"
    },
    "language_info": {
      "name": "python"
    }
  },
  "cells": [
    {
      "cell_type": "markdown",
      "metadata": {
        "id": "view-in-github",
        "colab_type": "text"
      },
      "source": [
        "<a href=\"https://colab.research.google.com/github/nenuchepanu001/PythonTutorial/blob/main/generators.ipynb\" target=\"_parent\"><img src=\"https://colab.research.google.com/assets/colab-badge.svg\" alt=\"Open In Colab\"/></a>"
      ]
    },
    {
      "cell_type": "code",
      "execution_count": null,
      "metadata": {
        "colab": {
          "base_uri": "https://localhost:8080/"
        },
        "id": "xUSMIGiJ0yjE",
        "outputId": "48da2437-d04b-4b9d-c573-639c23970939"
      },
      "outputs": [
        {
          "output_type": "stream",
          "name": "stdout",
          "text": [
            "[0, 2, 4, 6, 8, 10, 12, 14, 16, 18, 20, 22, 24, 26, 28, 30, 32, 34, 36, 38, 40, 42, 44, 46, 48, 50, 52, 54, 56, 58, 60, 62, 64, 66, 68, 70, 72, 74, 76, 78, 80, 82, 84, 86, 88, 90, 92, 94, 96, 98, 100, 102, 104, 106, 108, 110, 112, 114, 116, 118, 120, 122, 124, 126, 128, 130, 132, 134, 136, 138, 140, 142, 144, 146, 148, 150, 152, 154, 156, 158, 160, 162, 164, 166, 168, 170, 172, 174, 176, 178, 180, 182, 184, 186, 188, 190, 192, 194, 196, 198]\n"
          ]
        }
      ],
      "source": [
        "# range(100)\n",
        "# list(range(100))\n",
        "\n",
        "def make_list(num):\n",
        "  result= []\n",
        "  for i in range(num):\n",
        "    result.append(i*2)\n",
        "  return result\n",
        "\n",
        "my_list = make_list(100)\n",
        "\n",
        "print(my_list)"
      ]
    },
    {
      "cell_type": "code",
      "source": [
        "#generators can generate thing without taking lot of memory and space\n",
        "#generators are iterable\n",
        "#generator are subset of iterable"
      ],
      "metadata": {
        "id": "fyRkOxKf5Dok"
      },
      "execution_count": null,
      "outputs": []
    },
    {
      "cell_type": "code",
      "source": [
        "def generator_function(num):\n",
        "  for i in range(num):\n",
        "    yield i*2\n",
        "\n",
        "g  = generator_function(10)\n",
        "print(next(g))\n",
        "print(next(g))\n",
        "# for item in generator_function(10):\n",
        "#   print(item)"
      ],
      "metadata": {
        "colab": {
          "base_uri": "https://localhost:8080/"
        },
        "id": "RjxHirWH_nWT",
        "outputId": "bfd4b9c7-22fe-4d41-becb-bbf118ec2084"
      },
      "execution_count": 13,
      "outputs": [
        {
          "output_type": "stream",
          "name": "stdout",
          "text": [
            "0\n",
            "2\n"
          ]
        }
      ]
    },
    {
      "cell_type": "code",
      "source": [
        "def generator_function(num):\n",
        "  for i in range(num):\n",
        "    yield i*2\n",
        "\n",
        "#\n",
        "\n",
        "def make_list(num):\n",
        "  result= []\n",
        "  for i in range(num):\n",
        "    result.append(i*2)\n",
        "  return result\n",
        "\n",
        "my_list = make_list(100)\n",
        "\n",
        "print(my_list)"
      ],
      "metadata": {
        "id": "USsAC92J7t0Q",
        "colab": {
          "base_uri": "https://localhost:8080/",
          "height": 36
        },
        "outputId": "39e37790-36cf-4883-9e01-9ff3c19d7257"
      },
      "execution_count": 8,
      "outputs": [
        {
          "output_type": "execute_result",
          "data": {
            "text/plain": [
              "'hello'"
            ],
            "application/vnd.google.colaboratory.intrinsic+json": {
              "type": "string"
            }
          },
          "metadata": {},
          "execution_count": 8
        }
      ]
    },
    {
      "cell_type": "code",
      "source": [
        "from time import time\n",
        "def performance(fn):\n",
        "  def wrapper(*args, **kwargs):\n",
        "    t1 = time()\n",
        "    result = fn(*args, **kwargs)\n",
        "    t2 = time()\n",
        "    print(f\"took {t2-t1} s\")\n",
        "    return result\n",
        "  return wrapper\n",
        "\n",
        "@performance\n",
        "def long_time():\n",
        "  print('1')\n",
        "  for i in range(10000000):\n",
        "      i*5\n",
        "\n",
        "@performance\n",
        "def long_time2():\n",
        "  print('2')\n",
        "  for i in range(10000000):\n",
        "      i*5\n",
        "\n",
        "long_time()\n",
        "long_time2()"
      ],
      "metadata": {
        "colab": {
          "base_uri": "https://localhost:8080/"
        },
        "id": "iHHzqxAx9dFV",
        "outputId": "61a21785-349b-471d-8833-513f996153a5"
      },
      "execution_count": 16,
      "outputs": [
        {
          "output_type": "stream",
          "name": "stdout",
          "text": [
            "1\n",
            "took 0.7855815887451172 s\n",
            "2\n",
            "took 0.660355806350708 s\n"
          ]
        }
      ]
    },
    {
      "cell_type": "code",
      "source": [
        "def special_for(iterable):\n",
        "  iterable = iter(iterable)\n",
        "  while True:\n",
        "    try:\n",
        "      print(next(iterable))\n",
        "    except StopIteration:\n",
        "      break\n",
        "\n",
        "special_for([1,2,3,4,5])"
      ],
      "metadata": {
        "colab": {
          "base_uri": "https://localhost:8080/"
        },
        "id": "5xlpolW-CbTN",
        "outputId": "b5b77a1f-80d7-4772-ead7-c923d4c94e63"
      },
      "execution_count": 18,
      "outputs": [
        {
          "output_type": "stream",
          "name": "stdout",
          "text": [
            "1\n",
            "2\n",
            "3\n",
            "4\n",
            "5\n"
          ]
        }
      ]
    },
    {
      "cell_type": "code",
      "source": [
        "class MyGen():\n",
        "  def __init__(self, first,last):\n",
        "    self.first = first\n",
        "    self.last = last\n",
        "\n",
        "  def __iter__(self):\n",
        "    return self\n",
        "  def __next__(self):\n",
        "    if self.first < self.last:\n",
        "      num = self.first\n",
        "      self.first += 1\n",
        "      return num\n",
        "    else:\n",
        "      raise StopIteration\n",
        "\n",
        "gen  = MyGen(0,100)\n",
        "for i in gen:\n",
        "  print(i)"
      ],
      "metadata": {
        "colab": {
          "base_uri": "https://localhost:8080/"
        },
        "collapsed": true,
        "id": "N1TILoImDVb3",
        "outputId": "acb0c25e-fbaf-4386-85be-13b69ce625a0"
      },
      "execution_count": 19,
      "outputs": [
        {
          "output_type": "stream",
          "name": "stdout",
          "text": [
            "0\n",
            "1\n",
            "2\n",
            "3\n",
            "4\n",
            "5\n",
            "6\n",
            "7\n",
            "8\n",
            "9\n",
            "10\n",
            "11\n",
            "12\n",
            "13\n",
            "14\n",
            "15\n",
            "16\n",
            "17\n",
            "18\n",
            "19\n",
            "20\n",
            "21\n",
            "22\n",
            "23\n",
            "24\n",
            "25\n",
            "26\n",
            "27\n",
            "28\n",
            "29\n",
            "30\n",
            "31\n",
            "32\n",
            "33\n",
            "34\n",
            "35\n",
            "36\n",
            "37\n",
            "38\n",
            "39\n",
            "40\n",
            "41\n",
            "42\n",
            "43\n",
            "44\n",
            "45\n",
            "46\n",
            "47\n",
            "48\n",
            "49\n",
            "50\n",
            "51\n",
            "52\n",
            "53\n",
            "54\n",
            "55\n",
            "56\n",
            "57\n",
            "58\n",
            "59\n",
            "60\n",
            "61\n",
            "62\n",
            "63\n",
            "64\n",
            "65\n",
            "66\n",
            "67\n",
            "68\n",
            "69\n",
            "70\n",
            "71\n",
            "72\n",
            "73\n",
            "74\n",
            "75\n",
            "76\n",
            "77\n",
            "78\n",
            "79\n",
            "80\n",
            "81\n",
            "82\n",
            "83\n",
            "84\n",
            "85\n",
            "86\n",
            "87\n",
            "88\n",
            "89\n",
            "90\n",
            "91\n",
            "92\n",
            "93\n",
            "94\n",
            "95\n",
            "96\n",
            "97\n",
            "98\n",
            "99\n"
          ]
        }
      ]
    },
    {
      "cell_type": "code",
      "source": [
        "def fib(num):\n",
        "  a = 0\n",
        "  b = 1\n",
        "  for i in range(num):\n",
        "    yield a\n",
        "    temp = a\n",
        "    a = b\n",
        "    b = temp + b\n",
        "\n",
        "for i in fib(10):\n",
        "  print(i)\n"
      ],
      "metadata": {
        "colab": {
          "base_uri": "https://localhost:8080/"
        },
        "id": "24xy1RCHLP-e",
        "outputId": "c446da1c-a41a-4211-c99a-6ebf44fa0999"
      },
      "execution_count": 21,
      "outputs": [
        {
          "output_type": "stream",
          "name": "stdout",
          "text": [
            "0\n",
            "1\n",
            "1\n",
            "2\n",
            "3\n",
            "5\n",
            "8\n",
            "13\n",
            "21\n",
            "34\n"
          ]
        }
      ]
    },
    {
      "cell_type": "code",
      "source": [],
      "metadata": {
        "id": "QkgW24bkLgt2"
      },
      "execution_count": null,
      "outputs": []
    }
  ]
}