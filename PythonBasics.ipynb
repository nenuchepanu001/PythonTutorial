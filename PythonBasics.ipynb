{
  "nbformat": 4,
  "nbformat_minor": 0,
  "metadata": {
    "colab": {
      "provenance": [],
      "authorship_tag": "ABX9TyPABRLrzBxirgGKTQQ/9foJ",
      "include_colab_link": true
    },
    "kernelspec": {
      "name": "python3",
      "display_name": "Python 3"
    },
    "language_info": {
      "name": "python"
    }
  },
  "cells": [
    {
      "cell_type": "markdown",
      "metadata": {
        "id": "view-in-github",
        "colab_type": "text"
      },
      "source": [
        "<a href=\"https://colab.research.google.com/github/nenuchepanu001/PythonTutorial/blob/main/PythonBasics.ipynb\" target=\"_parent\"><img src=\"https://colab.research.google.com/assets/colab-badge.svg\" alt=\"Open In Colab\"/></a>"
      ]
    },
    {
      "cell_type": "markdown",
      "source": [
        "### DataTypes:\n",
        "    #Fundamental Datatypes\n",
        "    int\n",
        "    float\n",
        "    bool\n",
        "    str\n",
        "    list\n",
        "    tuple\n",
        "    set\n",
        "    dict\n",
        "    \n",
        "    #classes --> custom types\n",
        "\n",
        "    #Specialized DataTypes\n",
        "      Modules\n",
        "    None\n",
        "\n",
        "\n"
      ],
      "metadata": {
        "id": "DNPjRfOy9hFn"
      }
    },
    {
      "cell_type": "code",
      "source": [
        "print(type(6))\n",
        "print(type(2 + 4))\n",
        "print(type(2 - 4))\n",
        "print(type(2 * 4))\n",
        "print(type(2 / 4))\n",
        "print(type(20+1.1))\n",
        "print(type(20.9+1.1))"
      ],
      "metadata": {
        "colab": {
          "base_uri": "https://localhost:8080/"
        },
        "id": "8Smzbm_EAVlU",
        "outputId": "3adc00b2-41f8-4756-e3b3-611d685542ec"
      },
      "execution_count": null,
      "outputs": [
        {
          "output_type": "stream",
          "name": "stdout",
          "text": [
            "<class 'int'>\n",
            "<class 'int'>\n",
            "<class 'int'>\n",
            "<class 'int'>\n",
            "<class 'float'>\n",
            "<class 'float'>\n",
            "<class 'float'>\n"
          ]
        }
      ]
    },
    {
      "cell_type": "code",
      "source": [
        "print( 2 ** 3)\n",
        "print( 5 // 4)\n",
        "print( 6 % 4)"
      ],
      "metadata": {
        "colab": {
          "base_uri": "https://localhost:8080/"
        },
        "id": "Gs1t6SUVAhr7",
        "outputId": "959beb85-5a19-42fe-fa1f-8e953394b335"
      },
      "execution_count": null,
      "outputs": [
        {
          "output_type": "stream",
          "name": "stdout",
          "text": [
            "8\n",
            "1\n",
            "2\n"
          ]
        }
      ]
    },
    {
      "cell_type": "code",
      "source": [
        "# mathfunctions\n",
        "\n",
        "print(round(3.1))\n",
        "print(round(3.9))\n",
        "print('----')\n",
        "print(abs(-20))"
      ],
      "metadata": {
        "colab": {
          "base_uri": "https://localhost:8080/"
        },
        "id": "z_avSh4dC-9N",
        "outputId": "6a189f6f-ea26-4aa6-d6b3-d4ed20306200"
      },
      "execution_count": null,
      "outputs": [
        {
          "output_type": "stream",
          "name": "stdout",
          "text": [
            "3\n",
            "4\n",
            "----\n",
            "20\n",
            "8\n"
          ]
        }
      ]
    },
    {
      "cell_type": "code",
      "source": [
        "#operator precedence\n",
        "\n",
        "# (), **, * , /, + , -\n",
        "\n",
        "print(20 + 3 * 4)\n",
        "print(20 - 3 * 4)"
      ],
      "metadata": {
        "colab": {
          "base_uri": "https://localhost:8080/"
        },
        "id": "ol_WAjxbGbWA",
        "outputId": "25251ceb-6f7d-4f2d-bfd6-7b63dfe996e9"
      },
      "execution_count": null,
      "outputs": [
        {
          "output_type": "stream",
          "name": "stdout",
          "text": [
            "32\n",
            "8\n"
          ]
        }
      ]
    },
    {
      "cell_type": "code",
      "source": [
        "#bin and complex\n",
        "\n",
        "print(bin(5))\n",
        "print(int('0b101',2))"
      ],
      "metadata": {
        "colab": {
          "base_uri": "https://localhost:8080/"
        },
        "id": "trfPU21jGiAC",
        "outputId": "699076d8-68fe-46ca-9236-eac57e26e98f"
      },
      "execution_count": null,
      "outputs": [
        {
          "output_type": "stream",
          "name": "stdout",
          "text": [
            "0b101\n",
            "5\n"
          ]
        }
      ]
    },
    {
      "cell_type": "code",
      "source": [
        "# varaibles\n",
        "iq = 190\n",
        "print(iq)\n",
        "\n",
        "#constants\n",
        "PI = 3.14"
      ],
      "metadata": {
        "colab": {
          "base_uri": "https://localhost:8080/"
        },
        "id": "z-yjX7mcHgDO",
        "outputId": "b317e1a9-2d01-4a6a-bdf3-fd10584452e0"
      },
      "execution_count": null,
      "outputs": [
        {
          "output_type": "stream",
          "name": "stdout",
          "text": [
            "190\n"
          ]
        }
      ]
    },
    {
      "cell_type": "code",
      "source": [
        "#Expressions and Statements\n",
        "\n",
        "#augumented assignment operator\n",
        "\n",
        "some_value=5\n",
        "some_value = some_value +2\n",
        "\n",
        "print(some_value)\n",
        "\n",
        "some_value +=2\n",
        "print(some_value)\n",
        "\n",
        "some_value -=2\n",
        "print(some_value)\n",
        "\n",
        "some_value *=2\n",
        "print(some_value)\n",
        "\n",
        "some_value /=2\n",
        "print(some_value)"
      ],
      "metadata": {
        "colab": {
          "base_uri": "https://localhost:8080/"
        },
        "id": "OYAaJan6KtBS",
        "outputId": "76689b83-dcb4-4f55-d321-bb95b1865be9"
      },
      "execution_count": null,
      "outputs": [
        {
          "output_type": "stream",
          "name": "stdout",
          "text": [
            "7\n",
            "9\n",
            "7\n",
            "14\n",
            "7.0\n"
          ]
        }
      ]
    },
    {
      "cell_type": "code",
      "source": [
        "# Strings\n",
        "\n",
        "print('hi hello there')\n",
        "print(\"hi hello there\")\n",
        "print(type('hi hello there'))\n",
        "\n",
        "username = 'supercoder'\n",
        "password = 'supersecret'\n",
        "\n",
        "long_string = '''\n",
        "WOW\n",
        "O O\n",
        "---\n",
        "'''\n",
        "\n",
        "print(username)\n",
        "\n",
        "print(long_string)\n",
        "\n",
        "print(username +' '+ password)"
      ],
      "metadata": {
        "colab": {
          "base_uri": "https://localhost:8080/"
        },
        "id": "r0a1hCTeT6Hk",
        "outputId": "9c6ed3cc-4530-4c84-a8c9-402d6915bb7c"
      },
      "execution_count": null,
      "outputs": [
        {
          "output_type": "stream",
          "name": "stdout",
          "text": [
            "hi hello there\n",
            "hi hello there\n",
            "<class 'str'>\n",
            "supercoder\n",
            "\n",
            "WOW\n",
            "O O\n",
            "---\n",
            "\n",
            "supercoder supersecret\n"
          ]
        }
      ]
    },
    {
      "cell_type": "code",
      "source": [
        "# string concatenation\n",
        "\n",
        "'hello' + ' ' + \"anderi\""
      ],
      "metadata": {
        "colab": {
          "base_uri": "https://localhost:8080/",
          "height": 36
        },
        "id": "AgBAulTlXRAf",
        "outputId": "22b51fa0-ff32-447c-9d5b-ce6dbef89909"
      },
      "execution_count": null,
      "outputs": [
        {
          "output_type": "execute_result",
          "data": {
            "text/plain": [
              "'hello anderi'"
            ],
            "application/vnd.google.colaboratory.intrinsic+json": {
              "type": "string"
            }
          },
          "metadata": {},
          "execution_count": 37
        }
      ]
    },
    {
      "cell_type": "code",
      "source": [
        "print(type(str(100)))\n",
        "\n",
        "a = str(100)\n",
        "b = int(a)\n",
        "c = type(b)\n",
        "\n",
        "print(c)"
      ],
      "metadata": {
        "colab": {
          "base_uri": "https://localhost:8080/"
        },
        "id": "c07sPXu-YUpC",
        "outputId": "ee6d478e-835b-42ab-daf6-6023511140a1"
      },
      "execution_count": null,
      "outputs": [
        {
          "output_type": "stream",
          "name": "stdout",
          "text": [
            "<class 'str'>\n",
            "<class 'int'>\n"
          ]
        }
      ]
    },
    {
      "cell_type": "code",
      "source": [
        "weather = \"It\\'s \\\"kind of\\\" Sunny\"\n",
        "\n",
        "print(weather)"
      ],
      "metadata": {
        "colab": {
          "base_uri": "https://localhost:8080/"
        },
        "id": "cig-0MK6Y-dp",
        "outputId": "394c741e-7b1f-43d9-94ea-1ebb95e8ac63"
      },
      "execution_count": null,
      "outputs": [
        {
          "output_type": "stream",
          "name": "stdout",
          "text": [
            "It's \"kind of\" Sunny\n"
          ]
        }
      ]
    },
    {
      "cell_type": "code",
      "source": [
        "# FOrmmatted strings\n",
        "\n",
        "fname = 'Krishna'\n",
        "age = 1000\n",
        "\n",
        "print('hi ' + fname)\n",
        "\n",
        "print('hi '+ fname + '. you are '+str(age)+ ' years old')\n",
        "\n",
        "print(f'hi {fname} you are {age} years old')\n",
        "\n",
        "print('hi {}. you are {} years old'.format('Krishna','1000'))"
      ],
      "metadata": {
        "colab": {
          "base_uri": "https://localhost:8080/"
        },
        "id": "KKhk8G5eZjRm",
        "outputId": "4b9a706c-3e4b-4d18-80dc-bba3cbb4dee1"
      },
      "execution_count": null,
      "outputs": [
        {
          "output_type": "stream",
          "name": "stdout",
          "text": [
            "hi Krishna\n",
            "hi Krishna. you are 1000 years old\n",
            "hi Krishna you are 1000 years old\n",
            "hi Krishna. you are 1000 years old\n"
          ]
        }
      ]
    },
    {
      "cell_type": "code",
      "source": [
        "#string Indexes\n",
        "\n",
        "'me me me'\n",
        "#01234567\n",
        "\n",
        "selfish = 'me me me'\n",
        "\n",
        "print(selfish[7])\n",
        "\n",
        "#[start:stop:stepover]\n",
        "print(selfish[0:3])\n",
        "\n",
        "selfish = '01234567'\n",
        "print(selfish[0:8])\n",
        "\n",
        "print(selfish[0:8:1])"
      ],
      "metadata": {
        "colab": {
          "base_uri": "https://localhost:8080/"
        },
        "id": "Xs_gqe-7ax83",
        "outputId": "0472ebc4-52f0-4e95-a109-476a41d7440a"
      },
      "execution_count": null,
      "outputs": [
        {
          "output_type": "stream",
          "name": "stdout",
          "text": [
            "e\n",
            "me \n",
            "01234567\n",
            "01234567\n"
          ]
        }
      ]
    },
    {
      "cell_type": "code",
      "source": [
        "print(selfish[0:8:2])\n",
        "\n",
        "print(selfish[1:])\n",
        "print(selfish[:5])\n",
        "\n",
        "print(selfish[::2])\n",
        "\n",
        "print(selfish[::-1])\n",
        "\n",
        "print(selfish[::-2])\n"
      ],
      "metadata": {
        "colab": {
          "base_uri": "https://localhost:8080/"
        },
        "id": "GvTp0rM5b-K7",
        "outputId": "424d903e-47cd-4731-a3ee-9f842ad2eab4"
      },
      "execution_count": null,
      "outputs": [
        {
          "output_type": "stream",
          "name": "stdout",
          "text": [
            "0246\n",
            "1234567\n",
            "01234\n",
            "0246\n",
            "76543210\n",
            "7531\n"
          ]
        }
      ]
    },
    {
      "cell_type": "code",
      "source": [
        "#Immutability\n",
        "\n",
        "selfish = '01234567'\n",
        "print(selfish)\n",
        "\n",
        "selfish= selfish+'8'\n",
        "\n",
        "print(selfish)"
      ],
      "metadata": {
        "colab": {
          "base_uri": "https://localhost:8080/"
        },
        "id": "O7TryU_8cwHa",
        "outputId": "a8b6382c-f1d4-452c-97af-5ed14e55e4a0"
      },
      "execution_count": null,
      "outputs": [
        {
          "output_type": "stream",
          "name": "stdout",
          "text": [
            "01234567\n",
            "012345678\n"
          ]
        }
      ]
    },
    {
      "cell_type": "code",
      "source": [
        "#built in functions\n",
        "\n",
        "print(len('helloooooooo'))\n",
        "\n",
        "greet='hello'\n",
        "\n",
        "print(greet[0:3])"
      ],
      "metadata": {
        "colab": {
          "base_uri": "https://localhost:8080/"
        },
        "id": "s8Nh8MYKy5J7",
        "outputId": "92c8eb7f-e09c-4b2f-cd64-290849a9a8c0"
      },
      "execution_count": null,
      "outputs": [
        {
          "output_type": "stream",
          "name": "stdout",
          "text": [
            "12\n",
            "hel\n"
          ]
        }
      ]
    },
    {
      "cell_type": "code",
      "source": [],
      "metadata": {
        "id": "RUhlx2SJ63gJ"
      },
      "execution_count": null,
      "outputs": []
    }
  ]
}