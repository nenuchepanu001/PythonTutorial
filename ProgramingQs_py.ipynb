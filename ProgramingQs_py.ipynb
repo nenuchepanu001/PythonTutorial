{
  "nbformat": 4,
  "nbformat_minor": 0,
  "metadata": {
    "colab": {
      "provenance": [],
      "authorship_tag": "ABX9TyOeGKdX2KMLyjr/RkpalBHS",
      "include_colab_link": true
    },
    "kernelspec": {
      "name": "python3",
      "display_name": "Python 3"
    },
    "language_info": {
      "name": "python"
    }
  },
  "cells": [
    {
      "cell_type": "markdown",
      "metadata": {
        "id": "view-in-github",
        "colab_type": "text"
      },
      "source": [
        "<a href=\"https://colab.research.google.com/github/nenuchepanu001/PythonTutorial/blob/main/ProgramingQs_py.ipynb\" target=\"_parent\"><img src=\"https://colab.research.google.com/assets/colab-badge.svg\" alt=\"Open In Colab\"/></a>"
      ]
    },
    {
      "cell_type": "code",
      "execution_count": null,
      "metadata": {
        "colab": {
          "base_uri": "https://localhost:8080/"
        },
        "id": "hdrIMyZ3YTcq",
        "outputId": "d2b4244c-d7bd-4523-f03c-b5d9a7163d13"
      },
      "outputs": [
        {
          "output_type": "stream",
          "name": "stdout",
          "text": [
            "['h', 'e', 'l', 'l', 'o']\n",
            "['Krishna', 'Sai']\n"
          ]
        }
      ],
      "source": [
        "#convert string into list\n",
        "\n",
        "str1 = 'hello'\n",
        "print(list('hello'))\n",
        "\n",
        "str1 = 'Krishna Sai'\n",
        "print(str1.split(' '))"
      ]
    },
    {
      "cell_type": "code",
      "source": [
        "#reverse a string\n",
        "str1 = 'hello'\n",
        "print(str1[::-1])\n",
        "str2=''\n",
        "for i in str1:\n",
        "  str2 = i +str1\n",
        "print(str2)"
      ],
      "metadata": {
        "colab": {
          "base_uri": "https://localhost:8080/"
        },
        "id": "C-rgEna2aRDT",
        "outputId": "182a57a2-3a6f-4f76-c4f9-3fe2c9262bbf"
      },
      "execution_count": null,
      "outputs": [
        {
          "output_type": "stream",
          "name": "stdout",
          "text": [
            "olleh\n",
            "ohello\n"
          ]
        }
      ]
    },
    {
      "cell_type": "code",
      "source": [
        "#sort\n",
        "my_list = [3,2,4]\n",
        "\n",
        "my_list.sort()\n",
        "print(my_list)"
      ],
      "metadata": {
        "colab": {
          "base_uri": "https://localhost:8080/"
        },
        "id": "KwmsJ-PraxY7",
        "outputId": "0d6ee808-fcbe-4056-9a18-94a953e229ae"
      },
      "execution_count": null,
      "outputs": [
        {
          "output_type": "stream",
          "name": "stdout",
          "text": [
            "[2, 3, 4]\n"
          ]
        }
      ]
    },
    {
      "cell_type": "code",
      "source": [
        "#remove file\n",
        "# import os\n",
        "# os.remove('d.txt')"
      ],
      "metadata": {
        "id": "ONadLtd3lclX"
      },
      "execution_count": null,
      "outputs": []
    },
    {
      "cell_type": "code",
      "source": [
        "lst1 = ['w','lo','y']\n",
        "lst2 = ['e','ve','ou']\n",
        "\n",
        "print(list(zip(lst1,lst2)))\n",
        "\n",
        "print(list(x+y for x,y in zip(lst1,lst2)))"
      ],
      "metadata": {
        "colab": {
          "base_uri": "https://localhost:8080/"
        },
        "id": "0_rJEhATnKdL",
        "outputId": "7fbfd38c-c3f5-4585-bf78-5905bea4ffdc"
      },
      "execution_count": null,
      "outputs": [
        {
          "output_type": "stream",
          "name": "stdout",
          "text": [
            "[('w', 'e'), ('lo', 've'), ('y', 'ou')]\n",
            "['we', 'love', 'you']\n"
          ]
        }
      ]
    },
    {
      "cell_type": "markdown",
      "source": [
        "    What is pickling and unpickling in Python?\n",
        "    \n",
        "    Ans. Pickling is converting a Python object (list, dict, function, etc.) to a byte stream(0s and 1s), and unpickling is converting the byte stream back to a python object. It is used to transfer and store various Python objects. We can use pickle or dill Python packages for this."
      ],
      "metadata": {
        "id": "GWsC42OfoCrD"
      }
    },
    {
      "cell_type": "code",
      "source": [
        "my_list  = [1,2,34,4,4,6,2,1]\n",
        "print(list(set(my_list)))"
      ],
      "metadata": {
        "colab": {
          "base_uri": "https://localhost:8080/"
        },
        "id": "ARPJr3IhndOg",
        "outputId": "52a06c93-f9be-494d-f8b8-906c8eef20bf"
      },
      "execution_count": null,
      "outputs": [
        {
          "output_type": "stream",
          "name": "stdout",
          "text": [
            "[1, 2, 34, 4, 6]\n"
          ]
        }
      ]
    },
    {
      "cell_type": "markdown",
      "source": [
        "    What are global and local variables in Python?\n",
        "    Ans. In Python, a variable that is defined outside of any function or class is a global variable, while a variable that is defined inside a function or class is a local variable.\n"
      ],
      "metadata": {
        "id": "HNAFqjbLGIGK"
      }
    },
    {
      "cell_type": "markdown",
      "source": [
        "    What is the difference between return and yield keywords?\n",
        "    Ans. Return is used to exit a function and return a value to the caller. When a return statement is encountered, the function terminates immediately, and the value of the expression following the return statement is returned to the caller.\n",
        "\n",
        "    Yield, on the other hand, is used to define a generator function. A generator function is a special kind of function that produces a sequence of values one at a time instead of returning a single value. When a yield statement is encountered, the generator function produces a value and suspends its execution, saving its state for later."
      ],
      "metadata": {
        "id": "tnLfy_V9GdTS"
      }
    },
    {
      "cell_type": "markdown",
      "source": [
        "    What are generators in Python?\n",
        "    Ans. A generator in Python returns an iterator that produces sequences of values one at a time. We use the yield keyword to produce values."
      ],
      "metadata": {
        "id": "cMI7rpfgG7BR"
      }
    },
    {
      "cell_type": "code",
      "source": [
        "a = 0\n",
        "count =0\n",
        "\n",
        "n= int(input('number:'))\n",
        "\n",
        "a=n//2\n",
        "\n",
        "for i in range(2,a+1):\n",
        "  if n%i ==  0:\n",
        "    print('not prime')\n",
        "    count=1\n",
        "    break\n",
        "if (count ==0):\n",
        "  print('prime')"
      ],
      "metadata": {
        "id": "phPUOpIXojB3",
        "colab": {
          "base_uri": "https://localhost:8080/"
        },
        "outputId": "e666b1b8-d455-46f4-8033-ac737b9eaefb"
      },
      "execution_count": 3,
      "outputs": [
        {
          "output_type": "stream",
          "name": "stdout",
          "text": [
            "number:4\n",
            "not prime\n"
          ]
        }
      ]
    },
    {
      "cell_type": "code",
      "source": [
        "from math import sqrt\n",
        "\n",
        "int(sqrt(7))+1\n",
        "a=int(input('num'))\n",
        "for i in range(2, int(sqrt(a))+1):\n",
        "  if a %i ==0:\n",
        "    print('not prime')\n",
        "  else:\n",
        "    print('prime')"
      ],
      "metadata": {
        "colab": {
          "base_uri": "https://localhost:8080/"
        },
        "id": "e_P7f1G7H1BT",
        "outputId": "1d9b5ae4-eeb7-4c23-c936-d3257cf1337a"
      },
      "execution_count": 7,
      "outputs": [
        {
          "output_type": "stream",
          "name": "stdout",
          "text": [
            "num7\n",
            "prime\n"
          ]
        }
      ]
    },
    {
      "cell_type": "code",
      "source": [
        "def factorial(n):\n",
        "  if n==1:\n",
        "    return n\n",
        "  else:\n",
        "    return n*factorial(n-1)\n",
        "\n",
        "factorial(5)"
      ],
      "metadata": {
        "colab": {
          "base_uri": "https://localhost:8080/"
        },
        "id": "WrGlWE5lOENx",
        "outputId": "19310a9c-0e7d-4cf8-df44-59ec67e03346"
      },
      "execution_count": 9,
      "outputs": [
        {
          "output_type": "execute_result",
          "data": {
            "text/plain": [
              "120"
            ]
          },
          "metadata": {},
          "execution_count": 9
        }
      ]
    },
    {
      "cell_type": "code",
      "source": [
        "def factorial(n):\n",
        "  factorial = 1\n",
        "  for i in range(n):\n",
        "    factorial *= i+1\n",
        "  return factorial\n",
        "\n",
        "  print(factorial(5))"
      ],
      "metadata": {
        "id": "jK9XhEykPMPP"
      },
      "execution_count": 14,
      "outputs": []
    },
    {
      "cell_type": "code",
      "source": [
        "#minimum value in a list with a lambda function\n",
        "from functools import reduce\n",
        "\n",
        "lis = [1,2,4,7,38,9,-1]\n",
        "\n",
        "print(reduce(lambda x,y: x if x<y else y,lis))"
      ],
      "metadata": {
        "colab": {
          "base_uri": "https://localhost:8080/"
        },
        "id": "zdCMOhW8PeFN",
        "outputId": "a26db38d-daf8-4757-ffa1-4cc8f2684107"
      },
      "execution_count": 18,
      "outputs": [
        {
          "output_type": "stream",
          "name": "stdout",
          "text": [
            "-1\n"
          ]
        }
      ]
    },
    {
      "cell_type": "markdown",
      "source": [
        "    What is the difference between del and remove on lists?\n",
        "    Ans. ‘Remove’ removes the first occurrence of a given element. ‘Del’ removes elements based on the given index."
      ],
      "metadata": {
        "id": "qDh_7EzfQytB"
      }
    },
    {
      "cell_type": "markdown",
      "source": [
        "    What is the use of self in Python?\n",
        "    Ans. Self is used to represent the instance of the class. With this, we can access the attributes and methods of the class with an object. It binds the attributes of the object with the given arguments. Self is not a keyword. We can also use any other non-keyword though it is better to follow convention."
      ],
      "metadata": {
        "id": "ZnxZXfx4RAAc"
      }
    },
    {
      "cell_type": "markdown",
      "source": [
        "    What is enumerate() in Python?\n",
        "    Ans. enumerate() in Python iterates a sequence and returns the index position and its corresponding value.\n",
        "\n",
        "    What are deepcopy and shallowcopy?\n",
        "    Ans. Deepcopy copies the contents of the object to another location. Changes made in one object do not affect the other. In shallow copy, only the reference is copied. So, changes made in one affect the other object.\n"
      ],
      "metadata": {
        "id": "w5AZt0VhRMy1"
      }
    },
    {
      "cell_type": "code",
      "source": [],
      "metadata": {
        "id": "HiaGTrDLQg7r"
      },
      "execution_count": null,
      "outputs": []
    }
  ]
}