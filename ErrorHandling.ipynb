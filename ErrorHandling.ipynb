{
  "nbformat": 4,
  "nbformat_minor": 0,
  "metadata": {
    "colab": {
      "provenance": [],
      "authorship_tag": "ABX9TyNm3+SZDfD3aKCCTlwhI3xG",
      "include_colab_link": true
    },
    "kernelspec": {
      "name": "python3",
      "display_name": "Python 3"
    },
    "language_info": {
      "name": "python"
    }
  },
  "cells": [
    {
      "cell_type": "markdown",
      "metadata": {
        "id": "view-in-github",
        "colab_type": "text"
      },
      "source": [
        "<a href=\"https://colab.research.google.com/github/nenuchepanu001/PythonTutorial/blob/main/ErrorHandling.ipynb\" target=\"_parent\"><img src=\"https://colab.research.google.com/assets/colab-badge.svg\" alt=\"Open In Colab\"/></a>"
      ]
    },
    {
      "cell_type": "code",
      "execution_count": 1,
      "metadata": {
        "id": "hjhm7hfzqrtv"
      },
      "outputs": [],
      "source": [
        "#Error Handling\n",
        "\n",
        "age = int(input(\"Enter your age: \"))\n",
        "print(age)\n"
      ]
    },
    {
      "cell_type": "code",
      "source": [
        "try:\n",
        "    age = int(input(\"Enter your age: \"))\n",
        "    print(age)\n",
        "except:\n",
        "    print(\"kindly enter a number\")\n",
        "else:\n",
        "    print(\"Thank you\")\n",
        "finally:\n",
        "    print(\"Thank you\")"
      ],
      "metadata": {
        "colab": {
          "base_uri": "https://localhost:8080/"
        },
        "id": "4aPIg9A6u_n4",
        "outputId": "e9df4bcf-3f30-4351-fcc7-a995a3e9d446"
      },
      "execution_count": 4,
      "outputs": [
        {
          "output_type": "stream",
          "name": "stdout",
          "text": [
            "Enter your age: 10\n",
            "10\n",
            "Thank you\n",
            "Thank you\n"
          ]
        }
      ]
    },
    {
      "cell_type": "code",
      "source": [
        "while True:\n",
        "    try:\n",
        "        age = int(input(\"Enter your age: \"))\n",
        "        10/age\n",
        "    except ValueError:\n",
        "        print(\"kindly enter a number\")\n",
        "    except ZeroDivisionError:\n",
        "        print(\"kindly enter a number higher than 0\")\n",
        "    except ValueError:\n",
        "      print('!!!!!!!!')"
      ],
      "metadata": {
        "colab": {
          "base_uri": "https://localhost:8080/"
        },
        "id": "AgV6iMdIwpN7",
        "outputId": "06626ffd-add1-4761-f82d-6f44665778d9"
      },
      "execution_count": 5,
      "outputs": [
        {
          "output_type": "stream",
          "name": "stdout",
          "text": [
            "Enter your age: 44\n",
            "44\n"
          ]
        }
      ]
    },
    {
      "cell_type": "code",
      "source": [
        "def sum(num1,num2):\n",
        "    try:\n",
        "        return num1/num2\n",
        "    except TypeError as err:\n",
        "      print(f'please enter number {err}')\n",
        "    except ZeroDivisionError:\n",
        "        print(\"kindly enter a number higher than 0\")\n",
        "\n",
        "print(sum('1',2))"
      ],
      "metadata": {
        "colab": {
          "base_uri": "https://localhost:8080/"
        },
        "id": "Xxn8AG_MxGmk",
        "outputId": "1904132f-b2ff-4b48-830d-f8affff4245e"
      },
      "execution_count": 12,
      "outputs": [
        {
          "output_type": "stream",
          "name": "stdout",
          "text": [
            "please enter number unsupported operand type(s) for /: 'str' and 'int'\n",
            "None\n"
          ]
        }
      ]
    },
    {
      "cell_type": "code",
      "source": [
        "def sum(num1,num2):\n",
        "    try:\n",
        "        return num1/num2\n",
        "    except (TypeError,ZeroDivisionError) as err:\n",
        "      print(err)\n",
        "\n",
        "print(sum('1',2))"
      ],
      "metadata": {
        "colab": {
          "base_uri": "https://localhost:8080/"
        },
        "id": "JRaScZObyLF1",
        "outputId": "7c85bfde-96c2-4057-e255-3af05d4086ea"
      },
      "execution_count": 13,
      "outputs": [
        {
          "output_type": "stream",
          "name": "stdout",
          "text": [
            "unsupported operand type(s) for /: 'str' and 'int'\n",
            "None\n"
          ]
        }
      ]
    },
    {
      "cell_type": "code",
      "source": [],
      "metadata": {
        "id": "fy-9qz3b0dJQ"
      },
      "execution_count": null,
      "outputs": []
    }
  ]
}