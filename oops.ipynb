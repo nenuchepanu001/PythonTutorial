{
  "nbformat": 4,
  "nbformat_minor": 0,
  "metadata": {
    "colab": {
      "provenance": [],
      "authorship_tag": "ABX9TyNKVYFoY1Djumge11bDEJUH",
      "include_colab_link": true
    },
    "kernelspec": {
      "name": "python3",
      "display_name": "Python 3"
    },
    "language_info": {
      "name": "python"
    }
  },
  "cells": [
    {
      "cell_type": "markdown",
      "metadata": {
        "id": "view-in-github",
        "colab_type": "text"
      },
      "source": [
        "<a href=\"https://colab.research.google.com/github/nenuchepanu001/PythonTutorial/blob/main/oops.ipynb\" target=\"_parent\"><img src=\"https://colab.research.google.com/assets/colab-badge.svg\" alt=\"Open In Colab\"/></a>"
      ]
    },
    {
      "cell_type": "code",
      "execution_count": null,
      "metadata": {
        "colab": {
          "base_uri": "https://localhost:8080/"
        },
        "id": "Kt3rTMWIE2wF",
        "outputId": "3457632c-c94b-4497-91ed-75e0d92d1a0f"
      },
      "outputs": [
        {
          "output_type": "stream",
          "name": "stdout",
          "text": [
            "<class '__main__.BigObject'>\n"
          ]
        }
      ],
      "source": [
        "#OOP\n",
        "\n",
        "class BigObject: #class\n",
        "  pass\n",
        "\n",
        "obj1 = BigObject() #instansiate\n",
        "obj2 = BigObject() #instansiate\n",
        "obj3 = BigObject() #instansiate\n",
        "\n",
        "print(type(obj1))"
      ]
    },
    {
      "cell_type": "code",
      "source": [
        "class PlayerCharacter:\n",
        "  def __init__(self,name,age):\n",
        "    self.name = name\n",
        "    self.age = age\n",
        "\n",
        "  def run(self):\n",
        "    print('run')\n",
        "    return 'done'\n",
        "\n",
        "player1 =  PlayerCharacter('Krishna',1000)\n",
        "player2 =  PlayerCharacter('Sai',1000)\n",
        "player2.attack = 50\n",
        "\n",
        "print(player1.name)\n",
        "print(player1.age)\n",
        "print(player1.run())\n",
        "\n"
      ],
      "metadata": {
        "colab": {
          "base_uri": "https://localhost:8080/"
        },
        "id": "YeU2bfprRjjP",
        "outputId": "01f99698-28a4-4703-83f4-2f3fc9a6a8d4"
      },
      "execution_count": null,
      "outputs": [
        {
          "output_type": "stream",
          "name": "stdout",
          "text": [
            "Krishna\n",
            "1000\n",
            "run\n",
            "done\n",
            "Help on PlayerCharacter in module __main__ object:\n",
            "\n",
            "class PlayerCharacter(builtins.object)\n",
            " |  PlayerCharacter(name, age)\n",
            " |  \n",
            " |  Methods defined here:\n",
            " |  \n",
            " |  __init__(self, name, age)\n",
            " |      Initialize self.  See help(type(self)) for accurate signature.\n",
            " |  \n",
            " |  run(self)\n",
            " |  \n",
            " |  ----------------------------------------------------------------------\n",
            " |  Data descriptors defined here:\n",
            " |  \n",
            " |  __dict__\n",
            " |      dictionary for instance variables (if defined)\n",
            " |  \n",
            " |  __weakref__\n",
            " |      list of weak references to the object (if defined)\n",
            "\n"
          ]
        }
      ]
    },
    {
      "cell_type": "code",
      "source": [
        "#methods and attributes\n",
        "\n",
        "class PlayerCharacter:\n",
        "  #class object attribute\n",
        "  membership = True\n",
        "\n",
        "  def __init__(self,name,age):\n",
        "    if (self.membership):\n",
        "      self.name = name\n",
        "      self.age = age\n",
        "\n",
        "  def shout(self):\n",
        "    print(f'my name is {self.name}')\n",
        "\n",
        "  def run(self,hello):\n",
        "    print(f'my name is {self.name}')\n",
        "\n",
        "\n",
        "player1 =  PlayerCharacter('Krishna',1000)\n",
        "player2 =  PlayerCharacter('Sai',1000)\n",
        "player2.attack = 50\n",
        "\n",
        "print(player1.shout())\n",
        "print(player2.run('hello'))"
      ],
      "metadata": {
        "colab": {
          "base_uri": "https://localhost:8080/"
        },
        "id": "MFmCZCsBTMAk",
        "outputId": "fe0c8533-564d-4a6c-9037-35d7cb87d873"
      },
      "execution_count": null,
      "outputs": [
        {
          "output_type": "stream",
          "name": "stdout",
          "text": [
            "my name is Krishna\n",
            "None\n",
            "my name is Sai\n",
            "None\n"
          ]
        }
      ]
    },
    {
      "cell_type": "code",
      "source": [
        "# class PlayerCharacter:\n",
        "#   #class object attribute\n",
        "#   membership = True\n",
        "\n",
        "#   def __init__(self,name='anonymous',age=0):\n",
        "#     if (age > 18):\n",
        "#       self.name = name\n",
        "#       self.age = age\n",
        "\n",
        "#   def shout(self):\n",
        "#     print(f'my name is {self.name}')\n",
        "\n",
        "#   def run(self,hello):\n",
        "#     print(f'my name is {self.name}')\n",
        "\n",
        "\n",
        "# player1 =  PlayerCharacter('Krishna',10)\n",
        "\n",
        "# print(player1.shout())"
      ],
      "metadata": {
        "id": "Jo9p0cgIa74L"
      },
      "execution_count": null,
      "outputs": []
    },
    {
      "cell_type": "code",
      "source": [
        "class PlayerCharacter:\n",
        "  #class object attribute\n",
        "  membership = True\n",
        "\n",
        "  def __init__(self,name,age):\n",
        "    self.name = name\n",
        "    self.age = age\n",
        "\n",
        "  def shout(self):\n",
        "    print(f'my name is {self.name}')\n",
        "\n",
        "  @classmethod\n",
        "  def adding_things(cls,num1,num2):\n",
        "    return num1 + num2\n",
        "\n",
        "\n",
        "# player1 = PlayerCharacter('Krishna',1000)\n",
        "\n",
        "print(PlayerCharacter.adding_things(2,4))"
      ],
      "metadata": {
        "colab": {
          "base_uri": "https://localhost:8080/"
        },
        "id": "kzwwRTH1N0Mv",
        "outputId": "180975ff-f04a-46d2-eded-b1117e8b7f04"
      },
      "execution_count": null,
      "outputs": [
        {
          "output_type": "stream",
          "name": "stdout",
          "text": [
            "6\n"
          ]
        }
      ]
    },
    {
      "cell_type": "code",
      "source": [
        "class PlayerCharacter:\n",
        "  #class object attribute\n",
        "  membership = True\n",
        "\n",
        "  def __init__(self,name,age):\n",
        "    self.name = name\n",
        "    self.age = age\n",
        "\n",
        "  def shout(self):\n",
        "    print(f'my name is {self.name}')\n",
        "\n",
        "  @classmethod\n",
        "  def adding_things(cls,num1,num2):\n",
        "    return cls('Teddy',num1 + num2)\n",
        "\n",
        "  @staticmethod\n",
        "  def adding_things2(num1,num2):\n",
        "    return num1 + num2\n",
        "\n",
        "player3 = PlayerCharacter.adding_things(3,3)\n",
        "\n"
      ],
      "metadata": {
        "id": "MSjeX79KOdE3"
      },
      "execution_count": null,
      "outputs": []
    },
    {
      "cell_type": "code",
      "source": [
        "'''\n",
        "class NameOfClass:\n",
        "  #class object attribute\n",
        "  class_attribute = 'value'\n",
        "\n",
        "  def __init__(self,param1,param2):\n",
        "    self.param1 = param1\n",
        "    self.param2 = param2\n",
        "\n",
        "  def method(self):\n",
        "    #code\n",
        "\n",
        "  @classmethod\n",
        "  def cls_method(cls,num1,num2):\n",
        "    #code\n",
        "\n",
        "  @staticmethod\n",
        "  def stc_method(num1,num2):\n",
        "    #code\n",
        "'''"
      ],
      "metadata": {
        "colab": {
          "base_uri": "https://localhost:8080/",
          "height": 105
        },
        "id": "lKnUSZp3RiV1",
        "outputId": "ac9f2c53-8a91-495b-e471-8875ad223222"
      },
      "execution_count": null,
      "outputs": [
        {
          "output_type": "execute_result",
          "data": {
            "text/plain": [
              "\"\\nclass NameOfClass:\\n  #class object attribute\\n  class_attribute = 'value'\\n\\n  def __init__(self,param1,param2):\\n    self.param1 = param1\\n    self.param2 = param2\\n  \\n  def method(self):\\n    #code\\n  \\n  @classmethod\\n  def cls_method(cls,num1,num2):\\n    #code\\n\\n  @staticmethod\\n  def stc_method(num1,num2):\\n    #code\\n\""
            ],
            "application/vnd.google.colaboratory.intrinsic+json": {
              "type": "string"
            }
          },
          "metadata": {},
          "execution_count": 11
        }
      ]
    },
    {
      "cell_type": "code",
      "source": [
        "#4 pillars of oop\n",
        "\n",
        "#Encapsulation\n",
        "\n",
        "class PlayerCharacter:\n",
        "\n",
        "  def __init__(self,name,age):\n",
        "    self.name = name\n",
        "    self.age = age\n",
        "\n",
        "player1 = PlayerCharacter('andrei',100)\n",
        "\n",
        "print(player1.name)"
      ],
      "metadata": {
        "id": "iZBVPkOkR6kg"
      },
      "execution_count": null,
      "outputs": []
    },
    {
      "cell_type": "code",
      "source": [
        "#abstraction\n",
        "\n",
        "class PlayerCharacter:\n",
        "\n",
        "  def __init__(self,name,age):\n",
        "    self.name = name\n",
        "    self.age = age\n",
        "\n",
        "  def run(self):\n",
        "    print('run')\n",
        "\n",
        "  def speak(self):\n",
        "    print(f'my name is {self.name}')\n",
        "\n",
        "player1 = PlayerCharacter('andrei',100)\n",
        "\n",
        "print(player1.speak())"
      ],
      "metadata": {
        "colab": {
          "base_uri": "https://localhost:8080/"
        },
        "id": "yJ9n4hhcRAX9",
        "outputId": "7f61abf7-5d5e-478e-934b-9b391a247ef4"
      },
      "execution_count": null,
      "outputs": [
        {
          "output_type": "stream",
          "name": "stdout",
          "text": [
            "<bound method PlayerCharacter.speak of <__main__.PlayerCharacter object at 0x7d691cdc88b0>>\n"
          ]
        }
      ]
    },
    {
      "cell_type": "code",
      "source": [
        "#private?\n",
        "class PlayerCharacter:\n",
        "\n",
        "  def __init__(self,name,age):\n",
        "    self._name = name\n",
        "    self._age = age\n",
        "\n",
        "  def run(self):\n",
        "    print('run')\n",
        "\n",
        "  def speak(self):\n",
        "    print(f'my name is {self._name} and Iam {self._age} years old')\n",
        "\n",
        "player1 = PlayerCharacter('andrei',100)\n",
        "\n",
        "# player1.speak='Booo'\n",
        "\n",
        "# print(player1.speak)\n",
        "\n",
        "print(player1.speak())\n"
      ],
      "metadata": {
        "colab": {
          "base_uri": "https://localhost:8080/"
        },
        "id": "J9pLLC8zSQlA",
        "outputId": "a810ac89-1429-4cbc-dd65-a0ccb5152abc"
      },
      "execution_count": null,
      "outputs": [
        {
          "output_type": "stream",
          "name": "stdout",
          "text": [
            "my name is andrei and Iam 100 years old\n",
            "None\n"
          ]
        }
      ]
    },
    {
      "cell_type": "code",
      "source": [
        "#Inheritance\n",
        "\n",
        "class User:\n",
        "\n",
        "  def sign_in(self):\n",
        "    print('logged in')\n",
        "\n",
        "class Wizard(User):\n",
        "  def __init__(self,name,power):\n",
        "    self.name = name\n",
        "    self.power=power\n",
        "\n",
        "  def attack(self):\n",
        "    print(f'attacking with power of {self.power}')\n",
        "\n",
        "class Archer():\n",
        "  def __init__(self,name,num_arrows):\n",
        "    self.name = name\n",
        "    self.num_arrows=num_arrows\n",
        "\n",
        "  def attack(self):\n",
        "    print(f'attacking with arrows of {self.num_arrows}')\n",
        "\n",
        "\n",
        "wizard1 = Wizard('Merlin',50)\n",
        "archer1 = Archer('Robin',300)\n",
        "\n",
        "print(wizard1.sign_in())\n",
        "print(wizard1.attack())\n"
      ],
      "metadata": {
        "colab": {
          "base_uri": "https://localhost:8080/"
        },
        "id": "M-ApzaGGd4PN",
        "outputId": "0bfd3f7c-6130-4fee-e4da-688362c32238"
      },
      "execution_count": null,
      "outputs": [
        {
          "output_type": "stream",
          "name": "stdout",
          "text": [
            "logged in\n",
            "None\n",
            "attacking with power of 50\n",
            "None\n"
          ]
        }
      ]
    },
    {
      "cell_type": "code",
      "source": [
        "class User:\n",
        "\n",
        "  def sign_in(self):\n",
        "    print('logged in')\n",
        "\n",
        "class Wizard(User):\n",
        "  def __init__(self,name,power):\n",
        "    self.name = name\n",
        "    self.power=power\n",
        "\n",
        "  def attack(self):\n",
        "    print(f'attacking with power of {self.power}')\n",
        "\n",
        "class Archer():\n",
        "  def __init__(self,name,num_arrows):\n",
        "    self.name = name\n",
        "    self.num_arrows=num_arrows\n",
        "\n",
        "  def attack(self):\n",
        "    print(f'attacking with arrows of {self.num_arrows}')\n",
        "\n",
        "\n",
        "wizard1 = Wizard('Merlin',60)\n",
        "print(isinstance(wizard1,object))"
      ],
      "metadata": {
        "colab": {
          "base_uri": "https://localhost:8080/"
        },
        "id": "HMWHt-n5fQu7",
        "outputId": "09f18511-938f-4c03-ecc0-955b4a2f9c70"
      },
      "execution_count": null,
      "outputs": [
        {
          "output_type": "stream",
          "name": "stdout",
          "text": [
            "True\n"
          ]
        }
      ]
    },
    {
      "cell_type": "code",
      "source": [
        "#polymorphism\n",
        "\n",
        "class User:\n",
        "\n",
        "  def sign_in(self):\n",
        "    print('logged in')\n",
        "\n",
        "  def attack(self):\n",
        "    print('do nothing')\n",
        "\n",
        "class Wizard(User):\n",
        "  def __init__(self,name,power):\n",
        "    self.name = name\n",
        "    self.power=power\n",
        "\n",
        "  def attack(self):\n",
        "    print(f'attacking with power of {self.power}')\n",
        "\n",
        "class Archer(User):\n",
        "  def __init__(self,name,num_arrows):\n",
        "    self.name = name\n",
        "    self.num_arrows=num_arrows\n",
        "\n",
        "  def attack(self):\n",
        "    print(f'attacking with arrows of {self.num_arrows}')\n",
        "\n",
        "\n",
        "wizard1 = Wizard('Merlin',60)\n",
        "archer1 = Archer('Robin',30)\n",
        "\n",
        "print(wizard1.attack())\n",
        "# print(archer1.attack())\n",
        "\n",
        "def player_attack(char):\n",
        "  char.attack()\n",
        "\n",
        "\n",
        "player_attack(wizard1)\n",
        "player_attack(archer1)\n",
        "\n",
        "print('---------')\n",
        "for char in [wizard1,archer1]:\n",
        "  char.attack()\n"
      ],
      "metadata": {
        "colab": {
          "base_uri": "https://localhost:8080/"
        },
        "id": "_Zb8dGeTgnXx",
        "outputId": "4760ed17-7706-42f7-c60f-17cff521343b"
      },
      "execution_count": null,
      "outputs": [
        {
          "output_type": "stream",
          "name": "stdout",
          "text": [
            "attacking with power of 60\n",
            "None\n",
            "attacking with power of 60\n",
            "attacking with arrows of 30\n",
            "---------\n",
            "attacking with power of 60\n",
            "attacking with arrows of 30\n"
          ]
        }
      ]
    },
    {
      "cell_type": "code",
      "source": [
        "#super\n",
        "\n",
        "class User(object):\n",
        "  def __init__(self,email):\n",
        "    self.email =  email\n",
        "\n",
        "  def sign_in(self):\n",
        "    print('logged in')\n",
        "\n",
        "class Wizard(User):\n",
        "  def __init__(self,name,power,email):\n",
        "    User.__init__(self,email)\n",
        "    self.name = name\n",
        "    self.power=power\n",
        "\n",
        "  def attack(self):\n",
        "    print(f'attacking with power of {self.power}')\n",
        "\n",
        "wizard1 = Wizard('Merlin',60,'merlin@gmail.com')\n",
        "\n",
        "print(wizard1.attack())"
      ],
      "metadata": {
        "id": "Xw0DUboAr3KU",
        "colab": {
          "base_uri": "https://localhost:8080/"
        },
        "outputId": "e0ce1df6-bd9a-4be0-98da-ce74e9d6ebe0"
      },
      "execution_count": 9,
      "outputs": [
        {
          "output_type": "stream",
          "name": "stdout",
          "text": [
            "attacking with power of 60\n",
            "None\n"
          ]
        }
      ]
    },
    {
      "cell_type": "code",
      "source": [
        "#introspection\n",
        "\n",
        "wizard1 = Wizard('Merlin',60,'merlin@gmail.com')\n",
        "\n",
        "print(dir(wizard1))"
      ],
      "metadata": {
        "colab": {
          "base_uri": "https://localhost:8080/"
        },
        "id": "qH9ZAHNrT2sM",
        "outputId": "949b06e5-371f-4466-d345-bcb768fb9c0d"
      },
      "execution_count": 11,
      "outputs": [
        {
          "output_type": "stream",
          "name": "stdout",
          "text": [
            "['__class__', '__delattr__', '__dict__', '__dir__', '__doc__', '__eq__', '__format__', '__ge__', '__getattribute__', '__gt__', '__hash__', '__init__', '__init_subclass__', '__le__', '__lt__', '__module__', '__ne__', '__new__', '__reduce__', '__reduce_ex__', '__repr__', '__setattr__', '__sizeof__', '__str__', '__subclasshook__', '__weakref__', 'attack', 'email', 'name', 'power', 'sign_in']\n"
          ]
        }
      ]
    },
    {
      "cell_type": "code",
      "source": [
        "#Dunder Methods\n",
        "\n",
        "class Toy():\n",
        "  def __init__(self,color,age):\n",
        "    self.color = color\n",
        "    self.age = age\n",
        "\n",
        "  def __str__(self):\n",
        "    return f'{self.color}'\n",
        "\n",
        "action_figure = Toy('red',0)\n",
        "print(action_figure.__str__())\n",
        "print(str('action_figure'))"
      ],
      "metadata": {
        "colab": {
          "base_uri": "https://localhost:8080/"
        },
        "id": "nTBhOaEZjtJH",
        "outputId": "84b024ca-c897-460e-b079-4cf232203d39"
      },
      "execution_count": 16,
      "outputs": [
        {
          "output_type": "stream",
          "name": "stdout",
          "text": [
            "red\n",
            "action_figure\n"
          ]
        }
      ]
    },
    {
      "cell_type": "code",
      "source": [
        "# #Excercise\n",
        "\n",
        "# class SuperList():\n",
        "#   def __len__(self)\n"
      ],
      "metadata": {
        "id": "jG3PtIFBkGrk"
      },
      "execution_count": 17,
      "outputs": []
    },
    {
      "cell_type": "code",
      "source": [
        "#Multiple Inheritance\n",
        "\n",
        "class User:\n",
        "\n",
        "  def sign_in(self):\n",
        "    print('logged in')\n",
        "\n",
        "  def attack(self):\n",
        "    print('do nothing')\n",
        "\n",
        "class Wizard(User):\n",
        "  def __init__(self,name,power):\n",
        "    self.name = name\n",
        "    self.power=power\n",
        "\n",
        "  def attack(self):\n",
        "    print(f'attacking with power of {self.power}')\n",
        "\n",
        "class Archer(User):\n",
        "  def __init__(self,name,num_arrows):\n",
        "    self.name = name\n",
        "    self.num_arrows=num_arrows\n",
        "\n",
        "  def attack(self):\n",
        "    print(f'attacking with arrows of {self.num_arrows}')\n",
        "\n",
        "  def run(self):\n",
        "    pass\n",
        "\n",
        "\n",
        "class HybridBorg(Wizard,Archer):\n",
        "  pass\n"
      ],
      "metadata": {
        "id": "4TfzjimPl4S3"
      },
      "execution_count": 20,
      "outputs": []
    },
    {
      "cell_type": "code",
      "source": [],
      "metadata": {
        "id": "3YFskfNTmHdN"
      },
      "execution_count": null,
      "outputs": []
    }
  ]
}