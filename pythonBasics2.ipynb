{
  "nbformat": 4,
  "nbformat_minor": 0,
  "metadata": {
    "colab": {
      "provenance": [],
      "authorship_tag": "ABX9TyNf84QYo15XDEdvjTYpJ0P+",
      "include_colab_link": true
    },
    "kernelspec": {
      "name": "python3",
      "display_name": "Python 3"
    },
    "language_info": {
      "name": "python"
    }
  },
  "cells": [
    {
      "cell_type": "markdown",
      "metadata": {
        "id": "view-in-github",
        "colab_type": "text"
      },
      "source": [
        "<a href=\"https://colab.research.google.com/github/nenuchepanu001/PythonTutorial/blob/main/pythonBasics2.ipynb\" target=\"_parent\"><img src=\"https://colab.research.google.com/assets/colab-badge.svg\" alt=\"Open In Colab\"/></a>"
      ]
    },
    {
      "cell_type": "code",
      "source": [
        "#conditional logic\n",
        "\n",
        "is_old = False\n",
        "is_licenced = True\n",
        "\n",
        "if is_old:\n",
        "  print('you are old enough to drive!')\n",
        "elif is_licenced:\n",
        "  print('i\\'m licenced')\n",
        "else:\n",
        "  print('you are not old enough')\n",
        "\n",
        "print('checkcheck')"
      ],
      "metadata": {
        "colab": {
          "base_uri": "https://localhost:8080/"
        },
        "id": "4ybNLd4VSp1r",
        "outputId": "e7d6e744-a820-4f37-9819-c7f5494eee7e"
      },
      "execution_count": null,
      "outputs": [
        {
          "output_type": "stream",
          "name": "stdout",
          "text": [
            "i'm licenced\n",
            "checkcheck\n"
          ]
        }
      ]
    },
    {
      "cell_type": "code",
      "source": [
        "#Ternary operator\n",
        "\n",
        "#condition_if_true if condition else condition_if_else\n",
        "\n",
        "is_friend = True\n",
        "\n",
        "can_message = \"message allowed\" if is_friend else \"not allowed to message\"\n",
        "print(can_message)\n",
        "\n",
        "is_friend = False\n",
        "can_message = \"message allowed\" if is_friend else \"not allowed to message\"\n",
        "print(can_message)"
      ],
      "metadata": {
        "id": "8huC2BiBTMTX",
        "colab": {
          "base_uri": "https://localhost:8080/"
        },
        "outputId": "c878806e-63e4-4ea2-ee2c-13e13160a65b"
      },
      "execution_count": null,
      "outputs": [
        {
          "output_type": "stream",
          "name": "stdout",
          "text": [
            "message allowed\n",
            "not allowed to message\n"
          ]
        }
      ]
    },
    {
      "cell_type": "code",
      "source": [
        "#short circuiting\n",
        "\n",
        "is_Friend  = True\n",
        "is_User = True\n",
        "\n",
        "if is_Friend and is_User:\n",
        "  print(\"besrt friends forever\")"
      ],
      "metadata": {
        "colab": {
          "base_uri": "https://localhost:8080/"
        },
        "id": "QxiLw6NkYXKr",
        "outputId": "59af3837-4059-471a-f68a-d57abf210428"
      },
      "execution_count": null,
      "outputs": [
        {
          "output_type": "stream",
          "name": "stdout",
          "text": [
            "besrt friends forever\n"
          ]
        }
      ]
    },
    {
      "cell_type": "code",
      "source": [
        "#logical operartors\n",
        "\n",
        "#>,<,>=,<=,==\n",
        "\n",
        "print(4==5)"
      ],
      "metadata": {
        "colab": {
          "base_uri": "https://localhost:8080/"
        },
        "id": "cntTi1XeZNjy",
        "outputId": "2f3b1f0f-f5e9-417b-8b8b-c7947318eb28"
      },
      "execution_count": null,
      "outputs": [
        {
          "output_type": "stream",
          "name": "stdout",
          "text": [
            "False\n"
          ]
        }
      ]
    },
    {
      "cell_type": "code",
      "source": [
        "#For loops\n",
        "\n",
        "for item in (1,2,3,4,5):\n",
        "  print(item)\n"
      ],
      "metadata": {
        "id": "OjUvj-l8bErb",
        "colab": {
          "base_uri": "https://localhost:8080/"
        },
        "outputId": "94a41341-7407-44a1-da5c-099d9819c199"
      },
      "execution_count": null,
      "outputs": [
        {
          "output_type": "stream",
          "name": "stdout",
          "text": [
            "1\n",
            "2\n",
            "3\n",
            "4\n",
            "5\n"
          ]
        }
      ]
    },
    {
      "cell_type": "code",
      "source": [
        "for item in (1,2,3,4,5):\n",
        "  for x in ['a','b','c']:\n",
        "    print(item,x)\n"
      ],
      "metadata": {
        "colab": {
          "base_uri": "https://localhost:8080/"
        },
        "id": "q8AsRmH1UtAH",
        "outputId": "0aa975bd-6fbc-4060-8781-593a7055198a"
      },
      "execution_count": null,
      "outputs": [
        {
          "output_type": "stream",
          "name": "stdout",
          "text": [
            "1 a\n",
            "1 b\n",
            "1 c\n",
            "2 a\n",
            "2 b\n",
            "2 c\n",
            "3 a\n",
            "3 b\n",
            "3 c\n",
            "4 a\n",
            "4 b\n",
            "4 c\n",
            "5 a\n",
            "5 b\n",
            "5 c\n"
          ]
        }
      ]
    },
    {
      "cell_type": "code",
      "source": [
        "#iterables  -list,dict,tuple,set,string\n",
        "user = {\n",
        "    'name':'Golem',\n",
        "    'age':5000,\n",
        "    'can_swim':False\n",
        "}\n",
        "\n",
        "for item in user.items():\n",
        "  print(item)\n",
        "print('---------')\n",
        "\n",
        "for item in user.items():\n",
        "  key,value = item\n",
        "  print(key,value)\n",
        "print('---------')\n",
        "\n",
        "for key,value in user.items():\n",
        "  print(key,value)\n",
        "print('---------')\n",
        "\n",
        "for item in user.values():\n",
        "  print(item)\n",
        "print('---------')\n",
        "for item in user.keys():\n",
        "  print(item)\n",
        "print('---------')"
      ],
      "metadata": {
        "colab": {
          "base_uri": "https://localhost:8080/"
        },
        "id": "mEyUxOk2GHcx",
        "outputId": "645baf1f-333b-4287-8685-0ff2cce0a335"
      },
      "execution_count": null,
      "outputs": [
        {
          "output_type": "stream",
          "name": "stdout",
          "text": [
            "('name', 'Golem')\n",
            "('age', 5000)\n",
            "('can_swim', False)\n",
            "---------\n",
            "name Golem\n",
            "age 5000\n",
            "can_swim False\n",
            "---------\n",
            "name Golem\n",
            "age 5000\n",
            "can_swim False\n",
            "---------\n",
            "Golem\n",
            "5000\n",
            "False\n",
            "---------\n",
            "name\n",
            "age\n",
            "can_swim\n",
            "---------\n"
          ]
        }
      ]
    },
    {
      "cell_type": "code",
      "source": [
        "#Exercise : Tricky Counter\n",
        "\n",
        "my_list = [1,2,3,4,5,6,7,8,9,10]\n",
        "\n",
        "counter = 0\n",
        "for item in my_list:\n",
        "  counter =  counter + item\n",
        "\n",
        "print(counter)"
      ],
      "metadata": {
        "colab": {
          "base_uri": "https://localhost:8080/"
        },
        "id": "wJYb1iH6HJlg",
        "outputId": "a0050825-8363-49c0-cd04-2b2a15917d44"
      },
      "execution_count": null,
      "outputs": [
        {
          "output_type": "stream",
          "name": "stdout",
          "text": [
            "55\n"
          ]
        }
      ]
    },
    {
      "cell_type": "code",
      "source": [
        "#range\n",
        "print(range(100))"
      ],
      "metadata": {
        "colab": {
          "base_uri": "https://localhost:8080/"
        },
        "id": "VwRqdaA8LYTo",
        "outputId": "697c197f-70c7-46f8-9b88-5143f97b48ab"
      },
      "execution_count": null,
      "outputs": [
        {
          "output_type": "stream",
          "name": "stdout",
          "text": [
            "range(0, 100)\n"
          ]
        }
      ]
    },
    {
      "cell_type": "code",
      "source": [
        "for _ in range(2):\n",
        "  print(list(range(10)))"
      ],
      "metadata": {
        "colab": {
          "base_uri": "https://localhost:8080/"
        },
        "id": "KuxKHTXGLxXf",
        "outputId": "8104a9c8-bbcc-48b3-a252-977e2699afc8"
      },
      "execution_count": null,
      "outputs": [
        {
          "output_type": "stream",
          "name": "stdout",
          "text": [
            "[0, 1, 2, 3, 4, 5, 6, 7, 8, 9]\n",
            "[0, 1, 2, 3, 4, 5, 6, 7, 8, 9]\n"
          ]
        }
      ]
    },
    {
      "cell_type": "code",
      "source": [
        "#enumerate\n",
        "for i,char in enumerate(list(range(100))):\n",
        "  if char==50:\n",
        "    print(i,char)"
      ],
      "metadata": {
        "colab": {
          "base_uri": "https://localhost:8080/"
        },
        "id": "sDzXVihNL6ZE",
        "outputId": "c0b7f9b5-4622-4c75-cb2e-a7ebf2376699"
      },
      "execution_count": null,
      "outputs": [
        {
          "output_type": "stream",
          "name": "stdout",
          "text": [
            "50 50\n"
          ]
        }
      ]
    },
    {
      "cell_type": "code",
      "source": [
        "#while loops\n",
        "\n",
        "i=0\n",
        "while i < 50:\n",
        "  print(i)\n",
        "  i += 1\n",
        "  break\n",
        "else:\n",
        "  print('done with all work')\n",
        "\n",
        "  # break\n"
      ],
      "metadata": {
        "colab": {
          "base_uri": "https://localhost:8080/"
        },
        "id": "RmA4DdvbPDDl",
        "outputId": "f16486ee-41d9-4dfc-c845-aa7d1bc88699"
      },
      "execution_count": null,
      "outputs": [
        {
          "output_type": "stream",
          "name": "stdout",
          "text": [
            "done with all work\n"
          ]
        }
      ]
    },
    {
      "cell_type": "code",
      "source": [
        "my_list = [1,2,3]\n",
        "\n",
        "for item in my_list:\n",
        "  print(item)\n",
        "\n",
        "print('-----------')\n",
        "\n",
        "i=0\n",
        "while i < len(my_list):\n",
        "  print(my_list[i])\n",
        "  i  +=1"
      ],
      "metadata": {
        "colab": {
          "base_uri": "https://localhost:8080/"
        },
        "id": "QoPlA-s9SSJB",
        "outputId": "ad4e86b5-4eb3-4706-b782-798c3a3c55b7"
      },
      "execution_count": null,
      "outputs": [
        {
          "output_type": "stream",
          "name": "stdout",
          "text": [
            "1\n",
            "2\n",
            "3\n",
            "-----------\n",
            "1\n",
            "2\n",
            "3\n"
          ]
        }
      ]
    },
    {
      "cell_type": "code",
      "source": [
        "i=0\n",
        "while True:\n",
        "  input('saysomething:')\n",
        "  break"
      ],
      "metadata": {
        "colab": {
          "base_uri": "https://localhost:8080/"
        },
        "id": "ykBRR520TyAP",
        "outputId": "ab6567bd-f17d-45ca-90ff-4045ae0d1d4d"
      },
      "execution_count": null,
      "outputs": [
        {
          "name": "stdout",
          "output_type": "stream",
          "text": [
            "saysomething:hi\n"
          ]
        }
      ]
    },
    {
      "cell_type": "code",
      "source": [
        "while True:\n",
        "  response = input('saysomething:')\n",
        "  if response=='bye':\n",
        "    break"
      ],
      "metadata": {
        "colab": {
          "base_uri": "https://localhost:8080/"
        },
        "id": "0-y6dhsQV59f",
        "outputId": "e8297376-5df7-42aa-ce3b-01a17569edd5"
      },
      "execution_count": null,
      "outputs": [
        {
          "name": "stdout",
          "output_type": "stream",
          "text": [
            "saysomething:hi\n",
            "saysomething:bye\n"
          ]
        }
      ]
    },
    {
      "cell_type": "code",
      "source": [
        "#break,continue,pass\n",
        "my_list = [1,2,3]\n",
        "\n",
        "for item in my_list:\n",
        "  print(item)\n",
        "  continue"
      ],
      "metadata": {
        "colab": {
          "base_uri": "https://localhost:8080/"
        },
        "id": "yIXxX-azWD1X",
        "outputId": "9e08f8da-262f-4708-9a89-8081d2815a18"
      },
      "execution_count": null,
      "outputs": [
        {
          "output_type": "stream",
          "name": "stdout",
          "text": [
            "1\n",
            "2\n",
            "3\n"
          ]
        }
      ]
    },
    {
      "cell_type": "code",
      "source": [
        "#Excercise\n",
        "\n",
        "picture = [\n",
        "  [0,0,0,1,0,0,0],\n",
        "  [0,0,1,1,1,0,0],\n",
        "  [0,1,1,1,1,1,0],\n",
        "  [1,1,1,1,1,1,1],\n",
        "  [0,0,0,1,0,0,0],\n",
        "  [0,0,0,1,0,0,0]\n",
        "]\n",
        "\n",
        "#iterate over picture\n",
        "  #if 0 -> print ' '\n",
        "  #if 1 -> print *\n",
        "\n",
        "\n",
        "for image in picture:\n",
        "  for pixel in image:\n",
        "    if pixel == 1:\n",
        "      print('*',end='')\n",
        "    else:\n",
        "      print(' ',end='')\n",
        "  print('') # need a new line after every row"
      ],
      "metadata": {
        "colab": {
          "base_uri": "https://localhost:8080/"
        },
        "id": "XjIfMG3BWzpc",
        "outputId": "0442abaa-a8ca-4f65-9109-3fe403743970"
      },
      "execution_count": null,
      "outputs": [
        {
          "output_type": "stream",
          "name": "stdout",
          "text": [
            "   *   \n",
            "  ***  \n",
            " ***** \n",
            "*******\n",
            "   *   \n",
            "   *   \n"
          ]
        }
      ]
    },
    {
      "cell_type": "code",
      "source": [
        "# good coding practise\n",
        "  #clean\n",
        "  #readability\n",
        "  #predictability\n",
        "  #usability\n",
        "\n",
        "\n"
      ],
      "metadata": {
        "id": "WeNVvdoOYawV"
      },
      "execution_count": null,
      "outputs": []
    },
    {
      "cell_type": "code",
      "source": [
        "#Exercise : check for duplicates in list\n",
        "\n",
        "some_list = ['a','b','c','b','d','m','n','n']\n",
        "\n",
        "duplicates = []\n",
        "\n",
        "for value in some_list:\n",
        "  if some_list.count(value) > 1:\n",
        "    if value not in duplicates:\n",
        "      duplicates.append(value)\n",
        "print(duplicates)"
      ],
      "metadata": {
        "colab": {
          "base_uri": "https://localhost:8080/"
        },
        "id": "xCzSuRhQbeGF",
        "outputId": "bf26b6be-eebe-4845-aa2b-293b28e1069d"
      },
      "execution_count": null,
      "outputs": [
        {
          "output_type": "stream",
          "name": "stdout",
          "text": [
            "['b', 'n']\n"
          ]
        }
      ]
    },
    {
      "cell_type": "code",
      "source": [
        "#Functions\n",
        "def say_hello():\n",
        "  print('helloooo')\n",
        "\n",
        "say_hello()"
      ],
      "metadata": {
        "colab": {
          "base_uri": "https://localhost:8080/"
        },
        "id": "IX4qcgJUbt1K",
        "outputId": "d26cd8fb-c78a-4167-f977-4ffb7bb554ae"
      },
      "execution_count": null,
      "outputs": [
        {
          "output_type": "stream",
          "name": "stdout",
          "text": [
            "helloooo\n"
          ]
        }
      ]
    },
    {
      "cell_type": "code",
      "source": [
        "def show_tree():\n",
        "  for image in picture:\n",
        "    for pixel in image:\n",
        "      if pixel == 1:\n",
        "        print('*',end='')\n",
        "      else:\n",
        "        print(' ',end='')\n",
        "    print('') # need a new line after every row\n",
        "show_tree()\n",
        "show_tree()\n",
        "show_tree()"
      ],
      "metadata": {
        "colab": {
          "base_uri": "https://localhost:8080/"
        },
        "id": "7_WGoOwub9z1",
        "outputId": "0627e85a-777e-49e4-aec2-e12e4352ed1a"
      },
      "execution_count": null,
      "outputs": [
        {
          "output_type": "stream",
          "name": "stdout",
          "text": [
            "   *   \n",
            "  ***  \n",
            " ***** \n",
            "*******\n",
            "   *   \n",
            "   *   \n",
            "   *   \n",
            "  ***  \n",
            " ***** \n",
            "*******\n",
            "   *   \n",
            "   *   \n",
            "   *   \n",
            "  ***  \n",
            " ***** \n",
            "*******\n",
            "   *   \n",
            "   *   \n"
          ]
        }
      ]
    },
    {
      "cell_type": "code",
      "source": [
        "#arguments and parameters\n",
        "\n",
        "def say_hello(name,emoji):\n",
        "  print(f'hello {name} {emoji}')\n",
        "\n",
        "#positional arguments\n",
        "say_hello('Krishna',':)')\n",
        "\n",
        "# parameters are only seen while using function\n",
        "# arguments are seen only calling the function"
      ],
      "metadata": {
        "colab": {
          "base_uri": "https://localhost:8080/"
        },
        "id": "SKI9teR3jiX2",
        "outputId": "bee76f08-bb43-4ff0-e844-f4e8c9388054"
      },
      "execution_count": null,
      "outputs": [
        {
          "output_type": "stream",
          "name": "stdout",
          "text": [
            "hello Krishna :)\n"
          ]
        }
      ]
    },
    {
      "cell_type": "code",
      "source": [
        "#Default parameters and keyword arguments\n",
        "\n",
        "def say_hello(name,emoji):\n",
        "  print(f'hello {name} {emoji}')\n",
        "\n",
        "#keyword arguments\n",
        "say_hello(emoji=':)',name='Sai')"
      ],
      "metadata": {
        "colab": {
          "base_uri": "https://localhost:8080/"
        },
        "id": "RAlgu5UDlfZ4",
        "outputId": "4eab344e-9d41-48f3-80de-d989a9fad3bd"
      },
      "execution_count": null,
      "outputs": [
        {
          "output_type": "stream",
          "name": "stdout",
          "text": [
            "hello Sai :)\n"
          ]
        }
      ]
    },
    {
      "cell_type": "code",
      "source": [
        "#default parameters\n",
        "\n",
        "def say_hello(name='kk',emoji=':('):\n",
        "  print(f'hello {name} {emoji}')\n",
        "\n",
        "say_hello()\n",
        "say_hello('a','::')"
      ],
      "metadata": {
        "colab": {
          "base_uri": "https://localhost:8080/"
        },
        "id": "OH3RB_hYrLLU",
        "outputId": "2aa7f10b-d2b2-4109-cb1f-f1109b391d8b"
      },
      "execution_count": null,
      "outputs": [
        {
          "output_type": "stream",
          "name": "stdout",
          "text": [
            "hello kk :(\n",
            "hello a ::\n"
          ]
        }
      ]
    },
    {
      "cell_type": "code",
      "source": [
        "#return\n",
        "\n",
        "def sum(num1,num2):\n",
        "  return num1 + num2\n",
        "\n",
        "sum(4,5)\n",
        "#function do one thing really well\n",
        "#should return something\n",
        "total= sum(10,5)\n",
        "print(sum(10,total))"
      ],
      "metadata": {
        "colab": {
          "base_uri": "https://localhost:8080/"
        },
        "id": "vmbrI6kQrdT8",
        "outputId": "84b1c45a-99d1-48ee-88a2-187700644a5c"
      },
      "execution_count": null,
      "outputs": [
        {
          "output_type": "stream",
          "name": "stdout",
          "text": [
            "25\n"
          ]
        }
      ]
    },
    {
      "cell_type": "code",
      "source": [
        "def sum(num1,num2):\n",
        "  def subt(n1, n2):\n",
        "    return n1 - n2\n",
        "  return subt(num1,num2)\n",
        "\n",
        "sum(10 , 1)"
      ],
      "metadata": {
        "colab": {
          "base_uri": "https://localhost:8080/"
        },
        "id": "8SlJyaCkrwxx",
        "outputId": "b4d2f5df-4902-4e82-dd53-a1ed833dc244"
      },
      "execution_count": null,
      "outputs": [
        {
          "output_type": "execute_result",
          "data": {
            "text/plain": [
              "9"
            ]
          },
          "metadata": {},
          "execution_count": 75
        }
      ]
    },
    {
      "cell_type": "code",
      "source": [
        "# Methods vs Functions\n",
        "\n",
        "#Docstrings\n",
        "def test(a):\n",
        "  '''\n",
        "  Info: this function tests and prints param a\n",
        "  '''\n",
        "  print(a)\n",
        "\n",
        "test('@@@@')\n"
      ],
      "metadata": {
        "colab": {
          "base_uri": "https://localhost:8080/"
        },
        "id": "ch7uO2_CtsoF",
        "outputId": "f0664d61-3311-4a19-9c72-983d895d0f73"
      },
      "execution_count": null,
      "outputs": [
        {
          "output_type": "stream",
          "name": "stdout",
          "text": [
            "@@@@\n"
          ]
        }
      ]
    },
    {
      "cell_type": "code",
      "source": [
        "#clean code"
      ],
      "metadata": {
        "colab": {
          "base_uri": "https://localhost:8080/",
          "height": 36
        },
        "id": "YwoBu4dJxTlk",
        "outputId": "b32c0f22-2e00-4ac5-d408-ef47e36062d8"
      },
      "execution_count": null,
      "outputs": [
        {
          "output_type": "execute_result",
          "data": {
            "text/plain": [
              "'\\n  Info: this function tests and prints param a\\n  '"
            ],
            "application/vnd.google.colaboratory.intrinsic+json": {
              "type": "string"
            }
          },
          "metadata": {},
          "execution_count": 79
        }
      ]
    },
    {
      "cell_type": "code",
      "source": [
        "def is_even(num):\n",
        "  return num % 2 == 0\n",
        "\n",
        "is_even(51)"
      ],
      "metadata": {
        "colab": {
          "base_uri": "https://localhost:8080/"
        },
        "id": "2JMvpgAlCcHj",
        "outputId": "3dec96df-e1d1-4e2c-f28b-96a8d4902b9d"
      },
      "execution_count": null,
      "outputs": [
        {
          "output_type": "execute_result",
          "data": {
            "text/plain": [
              "False"
            ]
          },
          "metadata": {},
          "execution_count": 85
        }
      ]
    },
    {
      "cell_type": "code",
      "source": [
        "def is_even(num):\n",
        "  if num % 2 == 0:\n",
        "    return True\n",
        "  return False\n",
        "\n",
        "is_even(51)"
      ],
      "metadata": {
        "colab": {
          "base_uri": "https://localhost:8080/"
        },
        "id": "2z9ZQqJRxeKn",
        "outputId": "3a4dbb0d-aa1a-4d4b-c6d4-f2f9dc47f990"
      },
      "execution_count": null,
      "outputs": [
        {
          "output_type": "execute_result",
          "data": {
            "text/plain": [
              "False"
            ]
          },
          "metadata": {},
          "execution_count": 84
        }
      ]
    },
    {
      "cell_type": "code",
      "source": [
        "# *args and **kwargs\n",
        "\n",
        "def super_func(*args):\n",
        "  print(args)\n",
        "  return sum(args)\n",
        "\n",
        "#print(super_func([1,2,4,5])) #error"
      ],
      "metadata": {
        "id": "rk0BPfq9CBpZ"
      },
      "execution_count": null,
      "outputs": []
    },
    {
      "cell_type": "code",
      "source": [
        "def super_func(*args,**kwargs):\n",
        "  total=0\n",
        "  for items in kwargs.values():\n",
        "    total +=items\n",
        "  return sum(args)+total\n",
        "\n",
        "print(super_func(1,2,3,4,5,num1=5,num2=10))\n",
        "\n",
        "#Rule: params,*args,default,**kwargs"
      ],
      "metadata": {
        "colab": {
          "base_uri": "https://localhost:8080/"
        },
        "id": "DXdghFkJCtOS",
        "outputId": "c4a0c06b-268b-40a6-89fa-589634081ef8"
      },
      "execution_count": null,
      "outputs": [
        {
          "output_type": "stream",
          "name": "stdout",
          "text": [
            "30\n"
          ]
        }
      ]
    },
    {
      "cell_type": "code",
      "source": [
        "def super_func(*args):\n",
        "    print(args)\n",
        "    return sum(args)\n",
        "\n",
        "print(super_func(1,2,3,4,5))"
      ],
      "metadata": {
        "colab": {
          "base_uri": "https://localhost:8080/"
        },
        "id": "uF3QLN91QgpP",
        "outputId": "a1c2ef89-b636-4ba1-f36f-94138ee49b36"
      },
      "execution_count": null,
      "outputs": [
        {
          "output_type": "stream",
          "name": "stdout",
          "text": [
            "(1, 2, 3, 4, 5)\n",
            "15\n"
          ]
        }
      ]
    },
    {
      "cell_type": "code",
      "source": [
        "#Excercise\n",
        "\n",
        "def highest_even(li):\n",
        "  evens = []\n",
        "  for item in li:\n",
        "    if item % 2 ==0:\n",
        "      evens.append(item)\n",
        "  return(max(evens))\n",
        "\n",
        "\n",
        "highest_even([10,2,3,4,6,8,11])"
      ],
      "metadata": {
        "colab": {
          "base_uri": "https://localhost:8080/"
        },
        "id": "NGtXzwusb4ay",
        "outputId": "d2170516-3100-46c0-ecd3-f0d7ac5aeb52"
      },
      "execution_count": null,
      "outputs": [
        {
          "output_type": "execute_result",
          "data": {
            "text/plain": [
              "10"
            ]
          },
          "metadata": {},
          "execution_count": 9
        }
      ]
    },
    {
      "cell_type": "code",
      "source": [
        "max([10,2,3,4,6,8,11])"
      ],
      "metadata": {
        "colab": {
          "base_uri": "https://localhost:8080/"
        },
        "id": "IT-Jc_D8cjvV",
        "outputId": "32510d2f-7180-4749-d335-0b552f48f972"
      },
      "execution_count": null,
      "outputs": [
        {
          "output_type": "execute_result",
          "data": {
            "text/plain": [
              "11"
            ]
          },
          "metadata": {},
          "execution_count": 5
        }
      ]
    },
    {
      "cell_type": "code",
      "source": [
        "#walrus\n",
        "\n",
        "a ='helllllllllllllo'\n",
        "\n",
        "if ((n:=len(a))> 10):\n",
        "  print(f'too long {n} elements')"
      ],
      "metadata": {
        "colab": {
          "base_uri": "https://localhost:8080/"
        },
        "id": "u_oDRVMMckiw",
        "outputId": "a49e0816-1714-4447-bd6a-bce7a6a03fcf"
      },
      "execution_count": null,
      "outputs": [
        {
          "output_type": "stream",
          "name": "stdout",
          "text": [
            "too long 16 elements\n"
          ]
        }
      ]
    },
    {
      "cell_type": "code",
      "source": [
        "#scope - what varaiables do i have access to\n",
        "\n",
        "if True:\n",
        "  x=10\n",
        "\n",
        "def some_func():\n",
        "  total = 100\n",
        "\n",
        "print(x)\n",
        "\n",
        "# 1 - start with local\n",
        "# 2 - parent local?\n",
        "# 3 - global\n",
        "# 4 - built in python functions"
      ],
      "metadata": {
        "colab": {
          "base_uri": "https://localhost:8080/"
        },
        "id": "jCID8dKufs6Q",
        "outputId": "28d328ed-659d-4cf3-d50e-b561f08b01c7"
      },
      "execution_count": null,
      "outputs": [
        {
          "output_type": "stream",
          "name": "stdout",
          "text": [
            "10\n"
          ]
        }
      ]
    },
    {
      "cell_type": "code",
      "source": [
        "total = 0\n",
        "\n",
        "def count():\n",
        "  global total\n",
        "  total +=1\n",
        "  return total\n",
        "\n",
        "print(count())"
      ],
      "metadata": {
        "colab": {
          "base_uri": "https://localhost:8080/"
        },
        "id": "khydRtwsgGBD",
        "outputId": "d8b8f759-aefd-4e3a-cea8-a8d231557787"
      },
      "execution_count": null,
      "outputs": [
        {
          "output_type": "stream",
          "name": "stdout",
          "text": [
            "1\n"
          ]
        }
      ]
    },
    {
      "cell_type": "code",
      "source": [
        "#nonlocal keyword\n",
        "\n",
        "def outer():\n",
        "  x='local'\n",
        "  def inner():\n",
        "    nonlocal x\n",
        "    x='nonlocal'\n",
        "    print(\"inner:\",x)\n",
        "  inner()\n",
        "  print(\"outer\",x)\n",
        "\n",
        "outer()"
      ],
      "metadata": {
        "colab": {
          "base_uri": "https://localhost:8080/"
        },
        "id": "NdKtesY1h2sA",
        "outputId": "5578eeab-33ed-46fe-e976-c10c83c69de3"
      },
      "execution_count": null,
      "outputs": [
        {
          "output_type": "stream",
          "name": "stdout",
          "text": [
            "inner: nonlocal\n",
            "outer nonlocal\n"
          ]
        }
      ]
    },
    {
      "cell_type": "code",
      "source": [
        "#Exercise : Imposter syndrome\n"
      ],
      "metadata": {
        "id": "aKNchGj0jR2S"
      },
      "execution_count": null,
      "outputs": []
    }
  ]
}