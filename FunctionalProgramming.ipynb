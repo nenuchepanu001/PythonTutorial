{
  "nbformat": 4,
  "nbformat_minor": 0,
  "metadata": {
    "colab": {
      "provenance": [],
      "authorship_tag": "ABX9TyPIltjLJUICxZNxrAXlAU5m",
      "include_colab_link": true
    },
    "kernelspec": {
      "name": "python3",
      "display_name": "Python 3"
    },
    "language_info": {
      "name": "python"
    }
  },
  "cells": [
    {
      "cell_type": "markdown",
      "metadata": {
        "id": "view-in-github",
        "colab_type": "text"
      },
      "source": [
        "<a href=\"https://colab.research.google.com/github/nenuchepanu001/PythonTutorial/blob/main/FunctionalProgramming.ipynb\" target=\"_parent\"><img src=\"https://colab.research.google.com/assets/colab-badge.svg\" alt=\"Open In Colab\"/></a>"
      ]
    },
    {
      "cell_type": "code",
      "execution_count": null,
      "metadata": {
        "id": "8ASgFLgIwuVE",
        "colab": {
          "base_uri": "https://localhost:8080/"
        },
        "outputId": "b82878ca-7843-49ae-9fa3-990031ffb594"
      },
      "outputs": [
        {
          "output_type": "stream",
          "name": "stdout",
          "text": [
            "[2, 4, 6]\n"
          ]
        }
      ],
      "source": [
        "#pure functions\n",
        "\n",
        "def multiply_by2(li):\n",
        "  new_list=[]\n",
        "  for item in li:\n",
        "    new_list.append(item*2)\n",
        "  return new_list\n",
        "\n",
        "print(multiply_by2([1,2,3]))"
      ]
    },
    {
      "cell_type": "code",
      "source": [
        "#map,filter,zip and reduce\n",
        "\n",
        "my_list = [1,2,3]\n",
        "def multiply_by2(item):\n",
        "  return item*2\n",
        "\n",
        "print(list(map(multiply_by2,my_list)))\n",
        "print(my_list)"
      ],
      "metadata": {
        "id": "OrbpxkQ54pe8",
        "colab": {
          "base_uri": "https://localhost:8080/"
        },
        "outputId": "e8bc9d8d-3164-4ecf-a8dd-b11cfdd87ceb"
      },
      "execution_count": 7,
      "outputs": [
        {
          "output_type": "stream",
          "name": "stdout",
          "text": [
            "[2, 4, 6]\n",
            "[1, 2, 3]\n"
          ]
        }
      ]
    },
    {
      "cell_type": "code",
      "source": [
        "#filter\n",
        "\n",
        "def only_odd(item):\n",
        "  return item % 2 != 0\n",
        "\n",
        "print(list(filter(only_odd,my_list)))"
      ],
      "metadata": {
        "colab": {
          "base_uri": "https://localhost:8080/"
        },
        "id": "BZ9M5dkuF7Ko",
        "outputId": "275b2d30-b606-4206-bd1a-bcfbac78ba09"
      },
      "execution_count": 8,
      "outputs": [
        {
          "output_type": "stream",
          "name": "stdout",
          "text": [
            "[1, 3]\n"
          ]
        }
      ]
    },
    {
      "cell_type": "code",
      "source": [
        "#zip\n",
        "my_list = [1,2,3]\n",
        "ur_list = [10,20,30]\n",
        "\n",
        "print(list(zip(my_list,ur_list)))\n"
      ],
      "metadata": {
        "colab": {
          "base_uri": "https://localhost:8080/"
        },
        "id": "AFNNBDeaMfYt",
        "outputId": "9a4b06b1-f576-494a-8510-99b4c9cce4bb"
      },
      "execution_count": 14,
      "outputs": [
        {
          "output_type": "stream",
          "name": "stdout",
          "text": [
            "[(1, 10), (2, 20), (3, 30)]\n"
          ]
        }
      ]
    },
    {
      "cell_type": "code",
      "source": [
        "#reduce\n",
        "\n",
        "from functools import reduce\n",
        "\n",
        "def accumulator(acc,item):\n",
        "  print(acc,item)\n",
        "  return acc + item\n",
        "\n",
        "\n",
        "print(reduce(accumulator,my_list,0))"
      ],
      "metadata": {
        "colab": {
          "base_uri": "https://localhost:8080/"
        },
        "id": "49yp8N3SM2bO",
        "outputId": "fc00cb4b-9157-4bbe-d212-b2e45ad914c9"
      },
      "execution_count": 17,
      "outputs": [
        {
          "output_type": "stream",
          "name": "stdout",
          "text": [
            "0 1\n",
            "1 2\n",
            "3 3\n",
            "6\n"
          ]
        }
      ]
    },
    {
      "cell_type": "code",
      "source": [
        "#lambda\n",
        "\n",
        "#lambda parameter: manipulation(parameter)\n",
        "\n",
        "my_list = [1,2,3]\n",
        "\n",
        "print(list(map(lambda item: item*2,my_list)))"
      ],
      "metadata": {
        "colab": {
          "base_uri": "https://localhost:8080/"
        },
        "id": "l4_-4WxbOA_a",
        "outputId": "c8a8193b-c5c2-45d3-a948-f98a48e53f6e"
      },
      "execution_count": 18,
      "outputs": [
        {
          "output_type": "stream",
          "name": "stdout",
          "text": [
            "[2, 4, 6]\n"
          ]
        }
      ]
    },
    {
      "cell_type": "code",
      "source": [
        "my_list  = [5,4,3]\n",
        "\n",
        "print(list(map(lambda x: x**2,my_list)))"
      ],
      "metadata": {
        "colab": {
          "base_uri": "https://localhost:8080/"
        },
        "id": "RB1QRrRgR6R_",
        "outputId": "7eae9180-a319-4280-b846-ecfc488edde5"
      },
      "execution_count": 21,
      "outputs": [
        {
          "output_type": "stream",
          "name": "stdout",
          "text": [
            "[25, 16, 9]\n"
          ]
        }
      ]
    },
    {
      "cell_type": "code",
      "source": [
        "#list sorting\n",
        "a= [(0,2),(4,3),(9,9),(10,-1)]\n",
        "\n",
        "print(a.sort())\n",
        "a.sort(key = lambda x:x[1])\n",
        "print(a)"
      ],
      "metadata": {
        "colab": {
          "base_uri": "https://localhost:8080/"
        },
        "id": "GflAx2l2TBZL",
        "outputId": "05c9d070-e83e-48c2-d302-fd0b9388eb58"
      },
      "execution_count": 24,
      "outputs": [
        {
          "output_type": "stream",
          "name": "stdout",
          "text": [
            "None\n",
            "[(10, -1), (0, 2), (4, 3), (9, 9)]\n"
          ]
        }
      ]
    },
    {
      "cell_type": "code",
      "source": [
        "#list,set,dict comprehensions\n",
        "\n",
        "my_list = []\n",
        "\n",
        "for char in 'hello':\n",
        "  my_list.append(char)\n",
        "\n",
        "print(my_list)"
      ],
      "metadata": {
        "colab": {
          "base_uri": "https://localhost:8080/"
        },
        "id": "9liY1wN3TXfr",
        "outputId": "915462ae-3d9a-44d0-bbe0-fe527ab02b04"
      },
      "execution_count": 25,
      "outputs": [
        {
          "output_type": "stream",
          "name": "stdout",
          "text": [
            "['h', 'e', 'l', 'l', 'o']\n"
          ]
        }
      ]
    },
    {
      "cell_type": "code",
      "source": [
        "my_list = [item for item in 'hello']\n",
        "print(my_list)\n",
        "\n",
        "my_list2 = [num for num in range(0,100)]\n",
        "print(my_list2)\n",
        "\n",
        "\n",
        "my_list3 = [num*2 for num in range(0,100)]\n",
        "print(my_list3)"
      ],
      "metadata": {
        "colab": {
          "base_uri": "https://localhost:8080/"
        },
        "id": "CbNa0Qe3VAy_",
        "outputId": "0437ee90-e4ed-4388-805f-f1fa05c21dd6"
      },
      "execution_count": 31,
      "outputs": [
        {
          "output_type": "stream",
          "name": "stdout",
          "text": [
            "['h', 'e', 'l', 'l', 'o']\n",
            "[0, 1, 2, 3, 4, 5, 6, 7, 8, 9, 10, 11, 12, 13, 14, 15, 16, 17, 18, 19, 20, 21, 22, 23, 24, 25, 26, 27, 28, 29, 30, 31, 32, 33, 34, 35, 36, 37, 38, 39, 40, 41, 42, 43, 44, 45, 46, 47, 48, 49, 50, 51, 52, 53, 54, 55, 56, 57, 58, 59, 60, 61, 62, 63, 64, 65, 66, 67, 68, 69, 70, 71, 72, 73, 74, 75, 76, 77, 78, 79, 80, 81, 82, 83, 84, 85, 86, 87, 88, 89, 90, 91, 92, 93, 94, 95, 96, 97, 98, 99]\n",
            "[0, 2, 4, 6, 8, 10, 12, 14, 16, 18, 20, 22, 24, 26, 28, 30, 32, 34, 36, 38, 40, 42, 44, 46, 48, 50, 52, 54, 56, 58, 60, 62, 64, 66, 68, 70, 72, 74, 76, 78, 80, 82, 84, 86, 88, 90, 92, 94, 96, 98, 100, 102, 104, 106, 108, 110, 112, 114, 116, 118, 120, 122, 124, 126, 128, 130, 132, 134, 136, 138, 140, 142, 144, 146, 148, 150, 152, 154, 156, 158, 160, 162, 164, 166, 168, 170, 172, 174, 176, 178, 180, 182, 184, 186, 188, 190, 192, 194, 196, 198]\n"
          ]
        }
      ]
    },
    {
      "cell_type": "code",
      "source": [
        "\n",
        "my_list4 = [num**2 for num in range(0,100) if num%2==0]\n",
        "print(my_list4)"
      ],
      "metadata": {
        "colab": {
          "base_uri": "https://localhost:8080/"
        },
        "id": "ljfqkw4MVLGw",
        "outputId": "c594001b-8efc-4487-b9e1-a7f8a3556542"
      },
      "execution_count": 33,
      "outputs": [
        {
          "output_type": "stream",
          "name": "stdout",
          "text": [
            "[0, 4, 16, 36, 64, 100, 144, 196, 256, 324, 400, 484, 576, 676, 784, 900, 1024, 1156, 1296, 1444, 1600, 1764, 1936, 2116, 2304, 2500, 2704, 2916, 3136, 3364, 3600, 3844, 4096, 4356, 4624, 4900, 5184, 5476, 5776, 6084, 6400, 6724, 7056, 7396, 7744, 8100, 8464, 8836, 9216, 9604]\n"
          ]
        }
      ]
    },
    {
      "cell_type": "code",
      "source": [
        "#sets\n",
        "my_list = {item for item in 'hello'}\n",
        "print(my_list)\n",
        "\n",
        "my_list2 = {num for num in range(0,100)}\n",
        "print(my_list2)\n"
      ],
      "metadata": {
        "colab": {
          "base_uri": "https://localhost:8080/"
        },
        "id": "cFlD2VetV4Kl",
        "outputId": "d2fb0843-9add-4985-d5c7-8dd4ec4c79ca"
      },
      "execution_count": 35,
      "outputs": [
        {
          "output_type": "stream",
          "name": "stdout",
          "text": [
            "{'l', 'o', 'h', 'e'}\n",
            "{0, 1, 2, 3, 4, 5, 6, 7, 8, 9, 10, 11, 12, 13, 14, 15, 16, 17, 18, 19, 20, 21, 22, 23, 24, 25, 26, 27, 28, 29, 30, 31, 32, 33, 34, 35, 36, 37, 38, 39, 40, 41, 42, 43, 44, 45, 46, 47, 48, 49, 50, 51, 52, 53, 54, 55, 56, 57, 58, 59, 60, 61, 62, 63, 64, 65, 66, 67, 68, 69, 70, 71, 72, 73, 74, 75, 76, 77, 78, 79, 80, 81, 82, 83, 84, 85, 86, 87, 88, 89, 90, 91, 92, 93, 94, 95, 96, 97, 98, 99}\n"
          ]
        }
      ]
    },
    {
      "cell_type": "code",
      "source": [
        "#dict\n",
        "\n",
        "simple = {'a':1,'b':2}\n",
        "my_dict =  {key:value**2 for key,value in simple.items()}\n",
        "print(my_dict)"
      ],
      "metadata": {
        "colab": {
          "base_uri": "https://localhost:8080/"
        },
        "id": "vbYUkbUVWJI_",
        "outputId": "760dbd02-21d3-4e97-863d-982bf018fcd2"
      },
      "execution_count": 36,
      "outputs": [
        {
          "output_type": "stream",
          "name": "stdout",
          "text": [
            "{'a': 1, 'b': 4}\n"
          ]
        }
      ]
    },
    {
      "cell_type": "code",
      "source": [],
      "metadata": {
        "id": "TUTBG0KjWv6O"
      },
      "execution_count": null,
      "outputs": []
    }
  ]
}